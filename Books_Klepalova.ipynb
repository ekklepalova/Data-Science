{
 "cells": [
  {
   "cell_type": "code",
   "execution_count": 95,
   "id": "62c8927a",
   "metadata": {},
   "outputs": [],
   "source": [
    "import pandas as pd\n",
    "import pandas as pd\n",
    "import seaborn as sns\n",
    "import matplotlib.pyplot as plt\n",
    "import scipy.stats\n",
    "import statsmodels.api as sm\n",
    "import numpy as np"
   ]
  },
  {
   "cell_type": "code",
   "execution_count": 2,
   "id": "8350da22",
   "metadata": {},
   "outputs": [
    {
     "data": {
      "text/html": [
       "<div>\n",
       "<style scoped>\n",
       "    .dataframe tbody tr th:only-of-type {\n",
       "        vertical-align: middle;\n",
       "    }\n",
       "\n",
       "    .dataframe tbody tr th {\n",
       "        vertical-align: top;\n",
       "    }\n",
       "\n",
       "    .dataframe thead th {\n",
       "        text-align: right;\n",
       "    }\n",
       "</style>\n",
       "<table border=\"1\" class=\"dataframe\">\n",
       "  <thead>\n",
       "    <tr style=\"text-align: right;\">\n",
       "      <th></th>\n",
       "      <th>Name</th>\n",
       "      <th>Author</th>\n",
       "      <th>User Rating</th>\n",
       "      <th>Reviews</th>\n",
       "      <th>Price</th>\n",
       "      <th>Year</th>\n",
       "      <th>Genre</th>\n",
       "    </tr>\n",
       "  </thead>\n",
       "  <tbody>\n",
       "    <tr>\n",
       "      <th>0</th>\n",
       "      <td>10-Day Green Smoothie Cleanse</td>\n",
       "      <td>JJ Smith</td>\n",
       "      <td>4.7</td>\n",
       "      <td>17350</td>\n",
       "      <td>8</td>\n",
       "      <td>2016</td>\n",
       "      <td>Non Fiction</td>\n",
       "    </tr>\n",
       "    <tr>\n",
       "      <th>1</th>\n",
       "      <td>11/22/63: A Novel</td>\n",
       "      <td>Stephen King</td>\n",
       "      <td>4.6</td>\n",
       "      <td>2052</td>\n",
       "      <td>22</td>\n",
       "      <td>2011</td>\n",
       "      <td>Fiction</td>\n",
       "    </tr>\n",
       "    <tr>\n",
       "      <th>2</th>\n",
       "      <td>12 Rules for Life: An Antidote to Chaos</td>\n",
       "      <td>Jordan B. Peterson</td>\n",
       "      <td>4.7</td>\n",
       "      <td>18979</td>\n",
       "      <td>15</td>\n",
       "      <td>2018</td>\n",
       "      <td>Non Fiction</td>\n",
       "    </tr>\n",
       "    <tr>\n",
       "      <th>3</th>\n",
       "      <td>1984 (Signet Classics)</td>\n",
       "      <td>George Orwell</td>\n",
       "      <td>4.7</td>\n",
       "      <td>21424</td>\n",
       "      <td>6</td>\n",
       "      <td>2017</td>\n",
       "      <td>Fiction</td>\n",
       "    </tr>\n",
       "    <tr>\n",
       "      <th>4</th>\n",
       "      <td>5,000 Awesome Facts (About Everything!) (Natio...</td>\n",
       "      <td>National Geographic Kids</td>\n",
       "      <td>4.8</td>\n",
       "      <td>7665</td>\n",
       "      <td>12</td>\n",
       "      <td>2019</td>\n",
       "      <td>Non Fiction</td>\n",
       "    </tr>\n",
       "    <tr>\n",
       "      <th>...</th>\n",
       "      <td>...</td>\n",
       "      <td>...</td>\n",
       "      <td>...</td>\n",
       "      <td>...</td>\n",
       "      <td>...</td>\n",
       "      <td>...</td>\n",
       "      <td>...</td>\n",
       "    </tr>\n",
       "    <tr>\n",
       "      <th>545</th>\n",
       "      <td>Wrecking Ball (Diary of a Wimpy Kid Book 14)</td>\n",
       "      <td>Jeff Kinney</td>\n",
       "      <td>4.9</td>\n",
       "      <td>9413</td>\n",
       "      <td>8</td>\n",
       "      <td>2019</td>\n",
       "      <td>Fiction</td>\n",
       "    </tr>\n",
       "    <tr>\n",
       "      <th>546</th>\n",
       "      <td>You Are a Badass: How to Stop Doubting Your Gr...</td>\n",
       "      <td>Jen Sincero</td>\n",
       "      <td>4.7</td>\n",
       "      <td>14331</td>\n",
       "      <td>8</td>\n",
       "      <td>2016</td>\n",
       "      <td>Non Fiction</td>\n",
       "    </tr>\n",
       "    <tr>\n",
       "      <th>547</th>\n",
       "      <td>You Are a Badass: How to Stop Doubting Your Gr...</td>\n",
       "      <td>Jen Sincero</td>\n",
       "      <td>4.7</td>\n",
       "      <td>14331</td>\n",
       "      <td>8</td>\n",
       "      <td>2017</td>\n",
       "      <td>Non Fiction</td>\n",
       "    </tr>\n",
       "    <tr>\n",
       "      <th>548</th>\n",
       "      <td>You Are a Badass: How to Stop Doubting Your Gr...</td>\n",
       "      <td>Jen Sincero</td>\n",
       "      <td>4.7</td>\n",
       "      <td>14331</td>\n",
       "      <td>8</td>\n",
       "      <td>2018</td>\n",
       "      <td>Non Fiction</td>\n",
       "    </tr>\n",
       "    <tr>\n",
       "      <th>549</th>\n",
       "      <td>You Are a Badass: How to Stop Doubting Your Gr...</td>\n",
       "      <td>Jen Sincero</td>\n",
       "      <td>4.7</td>\n",
       "      <td>14331</td>\n",
       "      <td>8</td>\n",
       "      <td>2019</td>\n",
       "      <td>Non Fiction</td>\n",
       "    </tr>\n",
       "  </tbody>\n",
       "</table>\n",
       "<p>550 rows × 7 columns</p>\n",
       "</div>"
      ],
      "text/plain": [
       "                                                  Name  \\\n",
       "0                        10-Day Green Smoothie Cleanse   \n",
       "1                                    11/22/63: A Novel   \n",
       "2              12 Rules for Life: An Antidote to Chaos   \n",
       "3                               1984 (Signet Classics)   \n",
       "4    5,000 Awesome Facts (About Everything!) (Natio...   \n",
       "..                                                 ...   \n",
       "545       Wrecking Ball (Diary of a Wimpy Kid Book 14)   \n",
       "546  You Are a Badass: How to Stop Doubting Your Gr...   \n",
       "547  You Are a Badass: How to Stop Doubting Your Gr...   \n",
       "548  You Are a Badass: How to Stop Doubting Your Gr...   \n",
       "549  You Are a Badass: How to Stop Doubting Your Gr...   \n",
       "\n",
       "                       Author  User Rating  Reviews  Price  Year        Genre  \n",
       "0                    JJ Smith          4.7    17350      8  2016  Non Fiction  \n",
       "1                Stephen King          4.6     2052     22  2011      Fiction  \n",
       "2          Jordan B. Peterson          4.7    18979     15  2018  Non Fiction  \n",
       "3               George Orwell          4.7    21424      6  2017      Fiction  \n",
       "4    National Geographic Kids          4.8     7665     12  2019  Non Fiction  \n",
       "..                        ...          ...      ...    ...   ...          ...  \n",
       "545               Jeff Kinney          4.9     9413      8  2019      Fiction  \n",
       "546               Jen Sincero          4.7    14331      8  2016  Non Fiction  \n",
       "547               Jen Sincero          4.7    14331      8  2017  Non Fiction  \n",
       "548               Jen Sincero          4.7    14331      8  2018  Non Fiction  \n",
       "549               Jen Sincero          4.7    14331      8  2019  Non Fiction  \n",
       "\n",
       "[550 rows x 7 columns]"
      ]
     },
     "execution_count": 2,
     "metadata": {},
     "output_type": "execute_result"
    }
   ],
   "source": [
    "books = pd.read_csv('https://raw.githubusercontent.com/sanjay-kv/amazon-ebook/main/Data/bestsellers_amazon.csv')\n",
    "books"
   ]
  },
  {
   "cell_type": "code",
   "execution_count": 4,
   "id": "fe16be71",
   "metadata": {},
   "outputs": [
    {
     "data": {
      "text/plain": [
       "array(['Non Fiction', 'Fiction'], dtype=object)"
      ]
     },
     "execution_count": 4,
     "metadata": {},
     "output_type": "execute_result"
    }
   ],
   "source": [
    "books['Genre'].unique()"
   ]
  },
  {
   "cell_type": "code",
   "execution_count": 5,
   "id": "e2d3aa19",
   "metadata": {},
   "outputs": [
    {
     "data": {
      "text/plain": [
       "0      False\n",
       "1       True\n",
       "2      False\n",
       "3       True\n",
       "4      False\n",
       "       ...  \n",
       "545     True\n",
       "546    False\n",
       "547    False\n",
       "548    False\n",
       "549    False\n",
       "Name: Genre, Length: 550, dtype: bool"
      ]
     },
     "execution_count": 5,
     "metadata": {},
     "output_type": "execute_result"
    }
   ],
   "source": [
    "books['Genre'] == 'Fiction'"
   ]
  },
  {
   "cell_type": "code",
   "execution_count": 6,
   "id": "e23571e7",
   "metadata": {},
   "outputs": [
    {
     "data": {
      "text/plain": [
       "(101, 7)"
      ]
     },
     "execution_count": 6,
     "metadata": {},
     "output_type": "execute_result"
    }
   ],
   "source": [
    "books[(books['Genre'] == 'Fiction') & (books['Year']>2014)].shape"
   ]
  },
  {
   "cell_type": "markdown",
   "id": "e36cc57d",
   "metadata": {},
   "source": [
    "### 101 книга года в жанре fiction вышедшая после 2014"
   ]
  },
  {
   "cell_type": "code",
   "execution_count": 7,
   "id": "22d1696d",
   "metadata": {},
   "outputs": [
    {
     "data": {
      "text/plain": [
       "(161, 7)"
      ]
     },
     "execution_count": 7,
     "metadata": {},
     "output_type": "execute_result"
    }
   ],
   "source": [
    "books[~((books['Genre'] == 'Fiction') | (books['Year']>2014))].shape"
   ]
  },
  {
   "cell_type": "markdown",
   "id": "9eca63d2",
   "metadata": {},
   "source": [
    "### Отсортируем список по рейтингу  по убыванию и кол-ву отзывов по убыванию."
   ]
  },
  {
   "cell_type": "code",
   "execution_count": 11,
   "id": "eae3e970",
   "metadata": {},
   "outputs": [
    {
     "data": {
      "text/html": [
       "<div>\n",
       "<style scoped>\n",
       "    .dataframe tbody tr th:only-of-type {\n",
       "        vertical-align: middle;\n",
       "    }\n",
       "\n",
       "    .dataframe tbody tr th {\n",
       "        vertical-align: top;\n",
       "    }\n",
       "\n",
       "    .dataframe thead th {\n",
       "        text-align: right;\n",
       "    }\n",
       "</style>\n",
       "<table border=\"1\" class=\"dataframe\">\n",
       "  <thead>\n",
       "    <tr style=\"text-align: right;\">\n",
       "      <th></th>\n",
       "      <th>Name</th>\n",
       "      <th>Author</th>\n",
       "      <th>User Rating</th>\n",
       "      <th>Reviews</th>\n",
       "      <th>Price</th>\n",
       "      <th>Year</th>\n",
       "      <th>Genre</th>\n",
       "    </tr>\n",
       "  </thead>\n",
       "  <tbody>\n",
       "    <tr>\n",
       "      <th>245</th>\n",
       "      <td>Oh, the Places You'll Go!</td>\n",
       "      <td>Dr. Seuss</td>\n",
       "      <td>4.9</td>\n",
       "      <td>21834</td>\n",
       "      <td>8</td>\n",
       "      <td>2012</td>\n",
       "      <td>Fiction</td>\n",
       "    </tr>\n",
       "    <tr>\n",
       "      <th>246</th>\n",
       "      <td>Oh, the Places You'll Go!</td>\n",
       "      <td>Dr. Seuss</td>\n",
       "      <td>4.9</td>\n",
       "      <td>21834</td>\n",
       "      <td>8</td>\n",
       "      <td>2013</td>\n",
       "      <td>Fiction</td>\n",
       "    </tr>\n",
       "    <tr>\n",
       "      <th>247</th>\n",
       "      <td>Oh, the Places You'll Go!</td>\n",
       "      <td>Dr. Seuss</td>\n",
       "      <td>4.9</td>\n",
       "      <td>21834</td>\n",
       "      <td>8</td>\n",
       "      <td>2014</td>\n",
       "      <td>Fiction</td>\n",
       "    </tr>\n",
       "    <tr>\n",
       "      <th>248</th>\n",
       "      <td>Oh, the Places You'll Go!</td>\n",
       "      <td>Dr. Seuss</td>\n",
       "      <td>4.9</td>\n",
       "      <td>21834</td>\n",
       "      <td>8</td>\n",
       "      <td>2015</td>\n",
       "      <td>Fiction</td>\n",
       "    </tr>\n",
       "    <tr>\n",
       "      <th>249</th>\n",
       "      <td>Oh, the Places You'll Go!</td>\n",
       "      <td>Dr. Seuss</td>\n",
       "      <td>4.9</td>\n",
       "      <td>21834</td>\n",
       "      <td>8</td>\n",
       "      <td>2016</td>\n",
       "      <td>Fiction</td>\n",
       "    </tr>\n",
       "    <tr>\n",
       "      <th>...</th>\n",
       "      <td>...</td>\n",
       "      <td>...</td>\n",
       "      <td>...</td>\n",
       "      <td>...</td>\n",
       "      <td>...</td>\n",
       "      <td>...</td>\n",
       "      <td>...</td>\n",
       "    </tr>\n",
       "    <tr>\n",
       "      <th>22</th>\n",
       "      <td>Allegiant</td>\n",
       "      <td>Veronica Roth</td>\n",
       "      <td>3.9</td>\n",
       "      <td>6310</td>\n",
       "      <td>13</td>\n",
       "      <td>2013</td>\n",
       "      <td>Fiction</td>\n",
       "    </tr>\n",
       "    <tr>\n",
       "      <th>106</th>\n",
       "      <td>Fifty Shades of Grey: Book One of the Fifty Sh...</td>\n",
       "      <td>E L James</td>\n",
       "      <td>3.8</td>\n",
       "      <td>47265</td>\n",
       "      <td>14</td>\n",
       "      <td>2012</td>\n",
       "      <td>Fiction</td>\n",
       "    </tr>\n",
       "    <tr>\n",
       "      <th>107</th>\n",
       "      <td>Fifty Shades of Grey: Book One of the Fifty Sh...</td>\n",
       "      <td>E L James</td>\n",
       "      <td>3.8</td>\n",
       "      <td>47265</td>\n",
       "      <td>14</td>\n",
       "      <td>2013</td>\n",
       "      <td>Fiction</td>\n",
       "    </tr>\n",
       "    <tr>\n",
       "      <th>132</th>\n",
       "      <td>Go Set a Watchman: A Novel</td>\n",
       "      <td>Harper Lee</td>\n",
       "      <td>3.6</td>\n",
       "      <td>14982</td>\n",
       "      <td>19</td>\n",
       "      <td>2015</td>\n",
       "      <td>Fiction</td>\n",
       "    </tr>\n",
       "    <tr>\n",
       "      <th>353</th>\n",
       "      <td>The Casual Vacancy</td>\n",
       "      <td>J.K. Rowling</td>\n",
       "      <td>3.3</td>\n",
       "      <td>9372</td>\n",
       "      <td>12</td>\n",
       "      <td>2012</td>\n",
       "      <td>Fiction</td>\n",
       "    </tr>\n",
       "  </tbody>\n",
       "</table>\n",
       "<p>550 rows × 7 columns</p>\n",
       "</div>"
      ],
      "text/plain": [
       "                                                  Name         Author  \\\n",
       "245                          Oh, the Places You'll Go!      Dr. Seuss   \n",
       "246                          Oh, the Places You'll Go!      Dr. Seuss   \n",
       "247                          Oh, the Places You'll Go!      Dr. Seuss   \n",
       "248                          Oh, the Places You'll Go!      Dr. Seuss   \n",
       "249                          Oh, the Places You'll Go!      Dr. Seuss   \n",
       "..                                                 ...            ...   \n",
       "22                                           Allegiant  Veronica Roth   \n",
       "106  Fifty Shades of Grey: Book One of the Fifty Sh...      E L James   \n",
       "107  Fifty Shades of Grey: Book One of the Fifty Sh...      E L James   \n",
       "132                         Go Set a Watchman: A Novel     Harper Lee   \n",
       "353                                 The Casual Vacancy   J.K. Rowling   \n",
       "\n",
       "     User Rating  Reviews  Price  Year    Genre  \n",
       "245          4.9    21834      8  2012  Fiction  \n",
       "246          4.9    21834      8  2013  Fiction  \n",
       "247          4.9    21834      8  2014  Fiction  \n",
       "248          4.9    21834      8  2015  Fiction  \n",
       "249          4.9    21834      8  2016  Fiction  \n",
       "..           ...      ...    ...   ...      ...  \n",
       "22           3.9     6310     13  2013  Fiction  \n",
       "106          3.8    47265     14  2012  Fiction  \n",
       "107          3.8    47265     14  2013  Fiction  \n",
       "132          3.6    14982     19  2015  Fiction  \n",
       "353          3.3     9372     12  2012  Fiction  \n",
       "\n",
       "[550 rows x 7 columns]"
      ]
     },
     "execution_count": 11,
     "metadata": {},
     "output_type": "execute_result"
    }
   ],
   "source": [
    "books.sort_values(by=['User Rating','Reviews'],ascending=[False,False])"
   ]
  },
  {
   "cell_type": "markdown",
   "id": "e1e15831",
   "metadata": {},
   "source": [
    "### Создадим бинарную переменную"
   ]
  },
  {
   "cell_type": "code",
   "execution_count": 12,
   "id": "caff1937",
   "metadata": {},
   "outputs": [
    {
     "data": {
      "text/plain": [
       "array([4.7, 4.6, 4.8, 4.4, 4.5, 3.9, 4.3, 4.2, 4.9, 3.8, 3.6, 4. , 4.1,\n",
       "       3.3])"
      ]
     },
     "execution_count": 12,
     "metadata": {},
     "output_type": "execute_result"
    }
   ],
   "source": [
    "books['User Rating'].unique()"
   ]
  },
  {
   "cell_type": "code",
   "execution_count": 13,
   "id": "63f70889",
   "metadata": {},
   "outputs": [],
   "source": [
    "books['Normal Rating'] = books['User Rating'].apply(lambda x: 1 if x > 4.4 else 0)"
   ]
  },
  {
   "cell_type": "markdown",
   "id": "4b1f40f7",
   "metadata": {},
   "source": [
    "### За нормальный рейтинг примем рейтинг выше 4.4"
   ]
  },
  {
   "cell_type": "code",
   "execution_count": 14,
   "id": "740aaf78",
   "metadata": {},
   "outputs": [
    {
     "data": {
      "text/html": [
       "<div>\n",
       "<style scoped>\n",
       "    .dataframe tbody tr th:only-of-type {\n",
       "        vertical-align: middle;\n",
       "    }\n",
       "\n",
       "    .dataframe tbody tr th {\n",
       "        vertical-align: top;\n",
       "    }\n",
       "\n",
       "    .dataframe thead th {\n",
       "        text-align: right;\n",
       "    }\n",
       "</style>\n",
       "<table border=\"1\" class=\"dataframe\">\n",
       "  <thead>\n",
       "    <tr style=\"text-align: right;\">\n",
       "      <th></th>\n",
       "      <th>Name</th>\n",
       "      <th>Author</th>\n",
       "      <th>User Rating</th>\n",
       "      <th>Reviews</th>\n",
       "      <th>Price</th>\n",
       "      <th>Year</th>\n",
       "      <th>Genre</th>\n",
       "      <th>Normal Rating</th>\n",
       "    </tr>\n",
       "  </thead>\n",
       "  <tbody>\n",
       "    <tr>\n",
       "      <th>0</th>\n",
       "      <td>10-Day Green Smoothie Cleanse</td>\n",
       "      <td>JJ Smith</td>\n",
       "      <td>4.7</td>\n",
       "      <td>17350</td>\n",
       "      <td>8</td>\n",
       "      <td>2016</td>\n",
       "      <td>Non Fiction</td>\n",
       "      <td>1</td>\n",
       "    </tr>\n",
       "    <tr>\n",
       "      <th>1</th>\n",
       "      <td>11/22/63: A Novel</td>\n",
       "      <td>Stephen King</td>\n",
       "      <td>4.6</td>\n",
       "      <td>2052</td>\n",
       "      <td>22</td>\n",
       "      <td>2011</td>\n",
       "      <td>Fiction</td>\n",
       "      <td>1</td>\n",
       "    </tr>\n",
       "    <tr>\n",
       "      <th>2</th>\n",
       "      <td>12 Rules for Life: An Antidote to Chaos</td>\n",
       "      <td>Jordan B. Peterson</td>\n",
       "      <td>4.7</td>\n",
       "      <td>18979</td>\n",
       "      <td>15</td>\n",
       "      <td>2018</td>\n",
       "      <td>Non Fiction</td>\n",
       "      <td>1</td>\n",
       "    </tr>\n",
       "    <tr>\n",
       "      <th>3</th>\n",
       "      <td>1984 (Signet Classics)</td>\n",
       "      <td>George Orwell</td>\n",
       "      <td>4.7</td>\n",
       "      <td>21424</td>\n",
       "      <td>6</td>\n",
       "      <td>2017</td>\n",
       "      <td>Fiction</td>\n",
       "      <td>1</td>\n",
       "    </tr>\n",
       "    <tr>\n",
       "      <th>4</th>\n",
       "      <td>5,000 Awesome Facts (About Everything!) (Natio...</td>\n",
       "      <td>National Geographic Kids</td>\n",
       "      <td>4.8</td>\n",
       "      <td>7665</td>\n",
       "      <td>12</td>\n",
       "      <td>2019</td>\n",
       "      <td>Non Fiction</td>\n",
       "      <td>1</td>\n",
       "    </tr>\n",
       "  </tbody>\n",
       "</table>\n",
       "</div>"
      ],
      "text/plain": [
       "                                                Name  \\\n",
       "0                      10-Day Green Smoothie Cleanse   \n",
       "1                                  11/22/63: A Novel   \n",
       "2            12 Rules for Life: An Antidote to Chaos   \n",
       "3                             1984 (Signet Classics)   \n",
       "4  5,000 Awesome Facts (About Everything!) (Natio...   \n",
       "\n",
       "                     Author  User Rating  Reviews  Price  Year        Genre  \\\n",
       "0                  JJ Smith          4.7    17350      8  2016  Non Fiction   \n",
       "1              Stephen King          4.6     2052     22  2011      Fiction   \n",
       "2        Jordan B. Peterson          4.7    18979     15  2018  Non Fiction   \n",
       "3             George Orwell          4.7    21424      6  2017      Fiction   \n",
       "4  National Geographic Kids          4.8     7665     12  2019  Non Fiction   \n",
       "\n",
       "   Normal Rating  \n",
       "0              1  \n",
       "1              1  \n",
       "2              1  \n",
       "3              1  \n",
       "4              1  "
      ]
     },
     "execution_count": 14,
     "metadata": {},
     "output_type": "execute_result"
    }
   ],
   "source": [
    "books.head()"
   ]
  },
  {
   "cell_type": "code",
   "execution_count": 15,
   "id": "9e861b65",
   "metadata": {},
   "outputs": [
    {
     "data": {
      "text/plain": [
       "452"
      ]
     },
     "execution_count": 15,
     "metadata": {},
     "output_type": "execute_result"
    }
   ],
   "source": [
    "books['Normal Rating'].sum()"
   ]
  },
  {
   "cell_type": "markdown",
   "id": "c8239df4",
   "metadata": {},
   "source": [
    "### 452 строки(книги) с нормальным рейтингом (выше 4.4)"
   ]
  },
  {
   "cell_type": "markdown",
   "id": "e03e2201",
   "metadata": {},
   "source": [
    "### Создадим категориальную переменную для Price"
   ]
  },
  {
   "cell_type": "code",
   "execution_count": 16,
   "id": "19fd8107",
   "metadata": {},
   "outputs": [
    {
     "data": {
      "text/plain": [
       "array([  8,  22,  15,   6,  12,  11,  30,   3,   2,  32,   5,  17,   4,\n",
       "        13,  14,   9,  24,  21,  18,   0,  28,  16,  10, 105,  20,   1,\n",
       "         7,  19,  54,  52,  25,  27,  46,  39,  53,  40,  36,  82,  23,\n",
       "        42])"
      ]
     },
     "execution_count": 16,
     "metadata": {},
     "output_type": "execute_result"
    }
   ],
   "source": [
    "books['Price'].unique() "
   ]
  },
  {
   "cell_type": "code",
   "execution_count": 17,
   "id": "574baf1e",
   "metadata": {},
   "outputs": [],
   "source": [
    "def get_price_cat(price):\n",
    "    if price < 20 :\n",
    "        return 'Cheap'\n",
    "    elif price < 50 :\n",
    "        return 'Medium'\n",
    "    elif price >= 50:\n",
    "        return 'Expensive'\n",
    "    else :\n",
    "        return price"
   ]
  },
  {
   "cell_type": "code",
   "execution_count": 18,
   "id": "90e632f6",
   "metadata": {},
   "outputs": [],
   "source": [
    "books['Price Category'] = books['Price'].apply(get_price_cat)"
   ]
  },
  {
   "cell_type": "code",
   "execution_count": 19,
   "id": "8decb5ca",
   "metadata": {},
   "outputs": [
    {
     "data": {
      "text/html": [
       "<div>\n",
       "<style scoped>\n",
       "    .dataframe tbody tr th:only-of-type {\n",
       "        vertical-align: middle;\n",
       "    }\n",
       "\n",
       "    .dataframe tbody tr th {\n",
       "        vertical-align: top;\n",
       "    }\n",
       "\n",
       "    .dataframe thead th {\n",
       "        text-align: right;\n",
       "    }\n",
       "</style>\n",
       "<table border=\"1\" class=\"dataframe\">\n",
       "  <thead>\n",
       "    <tr style=\"text-align: right;\">\n",
       "      <th></th>\n",
       "      <th>Name</th>\n",
       "      <th>Author</th>\n",
       "      <th>User Rating</th>\n",
       "      <th>Reviews</th>\n",
       "      <th>Price</th>\n",
       "      <th>Year</th>\n",
       "      <th>Genre</th>\n",
       "      <th>Normal Rating</th>\n",
       "      <th>Price Category</th>\n",
       "    </tr>\n",
       "  </thead>\n",
       "  <tbody>\n",
       "    <tr>\n",
       "      <th>0</th>\n",
       "      <td>10-Day Green Smoothie Cleanse</td>\n",
       "      <td>JJ Smith</td>\n",
       "      <td>4.7</td>\n",
       "      <td>17350</td>\n",
       "      <td>8</td>\n",
       "      <td>2016</td>\n",
       "      <td>Non Fiction</td>\n",
       "      <td>1</td>\n",
       "      <td>Cheap</td>\n",
       "    </tr>\n",
       "    <tr>\n",
       "      <th>1</th>\n",
       "      <td>11/22/63: A Novel</td>\n",
       "      <td>Stephen King</td>\n",
       "      <td>4.6</td>\n",
       "      <td>2052</td>\n",
       "      <td>22</td>\n",
       "      <td>2011</td>\n",
       "      <td>Fiction</td>\n",
       "      <td>1</td>\n",
       "      <td>Medium</td>\n",
       "    </tr>\n",
       "    <tr>\n",
       "      <th>2</th>\n",
       "      <td>12 Rules for Life: An Antidote to Chaos</td>\n",
       "      <td>Jordan B. Peterson</td>\n",
       "      <td>4.7</td>\n",
       "      <td>18979</td>\n",
       "      <td>15</td>\n",
       "      <td>2018</td>\n",
       "      <td>Non Fiction</td>\n",
       "      <td>1</td>\n",
       "      <td>Cheap</td>\n",
       "    </tr>\n",
       "    <tr>\n",
       "      <th>3</th>\n",
       "      <td>1984 (Signet Classics)</td>\n",
       "      <td>George Orwell</td>\n",
       "      <td>4.7</td>\n",
       "      <td>21424</td>\n",
       "      <td>6</td>\n",
       "      <td>2017</td>\n",
       "      <td>Fiction</td>\n",
       "      <td>1</td>\n",
       "      <td>Cheap</td>\n",
       "    </tr>\n",
       "    <tr>\n",
       "      <th>4</th>\n",
       "      <td>5,000 Awesome Facts (About Everything!) (Natio...</td>\n",
       "      <td>National Geographic Kids</td>\n",
       "      <td>4.8</td>\n",
       "      <td>7665</td>\n",
       "      <td>12</td>\n",
       "      <td>2019</td>\n",
       "      <td>Non Fiction</td>\n",
       "      <td>1</td>\n",
       "      <td>Cheap</td>\n",
       "    </tr>\n",
       "  </tbody>\n",
       "</table>\n",
       "</div>"
      ],
      "text/plain": [
       "                                                Name  \\\n",
       "0                      10-Day Green Smoothie Cleanse   \n",
       "1                                  11/22/63: A Novel   \n",
       "2            12 Rules for Life: An Antidote to Chaos   \n",
       "3                             1984 (Signet Classics)   \n",
       "4  5,000 Awesome Facts (About Everything!) (Natio...   \n",
       "\n",
       "                     Author  User Rating  Reviews  Price  Year        Genre  \\\n",
       "0                  JJ Smith          4.7    17350      8  2016  Non Fiction   \n",
       "1              Stephen King          4.6     2052     22  2011      Fiction   \n",
       "2        Jordan B. Peterson          4.7    18979     15  2018  Non Fiction   \n",
       "3             George Orwell          4.7    21424      6  2017      Fiction   \n",
       "4  National Geographic Kids          4.8     7665     12  2019  Non Fiction   \n",
       "\n",
       "   Normal Rating Price Category  \n",
       "0              1          Cheap  \n",
       "1              1         Medium  \n",
       "2              1          Cheap  \n",
       "3              1          Cheap  \n",
       "4              1          Cheap  "
      ]
     },
     "execution_count": 19,
     "metadata": {},
     "output_type": "execute_result"
    }
   ],
   "source": [
    "books.head()"
   ]
  },
  {
   "cell_type": "markdown",
   "id": "7f38bebb",
   "metadata": {},
   "source": [
    "### Создали переменуую которая показывает ценовую категорию в зависимости от стоимости книги."
   ]
  },
  {
   "cell_type": "code",
   "execution_count": 20,
   "id": "0b31c998",
   "metadata": {},
   "outputs": [],
   "source": [
    "books['Price Category'] = pd.Categorical(books['Price Category'])"
   ]
  },
  {
   "cell_type": "code",
   "execution_count": 21,
   "id": "c6c83c17",
   "metadata": {},
   "outputs": [
    {
     "name": "stdout",
     "output_type": "stream",
     "text": [
      "<class 'pandas.core.frame.DataFrame'>\n",
      "RangeIndex: 550 entries, 0 to 549\n",
      "Data columns (total 9 columns):\n",
      " #   Column          Non-Null Count  Dtype   \n",
      "---  ------          --------------  -----   \n",
      " 0   Name            550 non-null    object  \n",
      " 1   Author          550 non-null    object  \n",
      " 2   User Rating     550 non-null    float64 \n",
      " 3   Reviews         550 non-null    int64   \n",
      " 4   Price           550 non-null    int64   \n",
      " 5   Year            550 non-null    int64   \n",
      " 6   Genre           550 non-null    object  \n",
      " 7   Normal Rating   550 non-null    int64   \n",
      " 8   Price Category  550 non-null    category\n",
      "dtypes: category(1), float64(1), int64(4), object(3)\n",
      "memory usage: 35.2+ KB\n"
     ]
    }
   ],
   "source": [
    "books.info()"
   ]
  },
  {
   "cell_type": "markdown",
   "id": "386d3b23",
   "metadata": {},
   "source": [
    "### Теперь создадим переменную выгодное предложение из нескольких условий. Для этого будем использовать Numpy"
   ]
  },
  {
   "cell_type": "code",
   "execution_count": 96,
   "id": "45985e23",
   "metadata": {},
   "outputs": [],
   "source": [
    "import numpy as np"
   ]
  },
  {
   "cell_type": "code",
   "execution_count": 97,
   "id": "be9b861b",
   "metadata": {},
   "outputs": [
    {
     "data": {
      "text/plain": [
       "array([2016, 2011, 2018, 2017, 2019, 2014, 2010, 2009, 2015, 2013, 2012])"
      ]
     },
     "execution_count": 97,
     "metadata": {},
     "output_type": "execute_result"
    }
   ],
   "source": [
    "books['Year'].unique() "
   ]
  },
  {
   "cell_type": "code",
   "execution_count": 24,
   "id": "ac9305d7",
   "metadata": {},
   "outputs": [],
   "source": [
    "books['Profitable Offer'] = np.where((books['Price Category'] == 'Cheap') &\n",
    "          (books['Normal Rating'] == 1) &\n",
    "          (books['Year'] >= 2017), 1, 0)"
   ]
  },
  {
   "cell_type": "code",
   "execution_count": 25,
   "id": "8c7b0168",
   "metadata": {},
   "outputs": [
    {
     "data": {
      "text/html": [
       "<div>\n",
       "<style scoped>\n",
       "    .dataframe tbody tr th:only-of-type {\n",
       "        vertical-align: middle;\n",
       "    }\n",
       "\n",
       "    .dataframe tbody tr th {\n",
       "        vertical-align: top;\n",
       "    }\n",
       "\n",
       "    .dataframe thead th {\n",
       "        text-align: right;\n",
       "    }\n",
       "</style>\n",
       "<table border=\"1\" class=\"dataframe\">\n",
       "  <thead>\n",
       "    <tr style=\"text-align: right;\">\n",
       "      <th></th>\n",
       "      <th>Name</th>\n",
       "      <th>Author</th>\n",
       "      <th>User Rating</th>\n",
       "      <th>Reviews</th>\n",
       "      <th>Price</th>\n",
       "      <th>Year</th>\n",
       "      <th>Genre</th>\n",
       "      <th>Normal Rating</th>\n",
       "      <th>Price Category</th>\n",
       "      <th>Profitable Offer</th>\n",
       "    </tr>\n",
       "  </thead>\n",
       "  <tbody>\n",
       "    <tr>\n",
       "      <th>0</th>\n",
       "      <td>10-Day Green Smoothie Cleanse</td>\n",
       "      <td>JJ Smith</td>\n",
       "      <td>4.7</td>\n",
       "      <td>17350</td>\n",
       "      <td>8</td>\n",
       "      <td>2016</td>\n",
       "      <td>Non Fiction</td>\n",
       "      <td>1</td>\n",
       "      <td>Cheap</td>\n",
       "      <td>0</td>\n",
       "    </tr>\n",
       "    <tr>\n",
       "      <th>1</th>\n",
       "      <td>11/22/63: A Novel</td>\n",
       "      <td>Stephen King</td>\n",
       "      <td>4.6</td>\n",
       "      <td>2052</td>\n",
       "      <td>22</td>\n",
       "      <td>2011</td>\n",
       "      <td>Fiction</td>\n",
       "      <td>1</td>\n",
       "      <td>Medium</td>\n",
       "      <td>0</td>\n",
       "    </tr>\n",
       "    <tr>\n",
       "      <th>2</th>\n",
       "      <td>12 Rules for Life: An Antidote to Chaos</td>\n",
       "      <td>Jordan B. Peterson</td>\n",
       "      <td>4.7</td>\n",
       "      <td>18979</td>\n",
       "      <td>15</td>\n",
       "      <td>2018</td>\n",
       "      <td>Non Fiction</td>\n",
       "      <td>1</td>\n",
       "      <td>Cheap</td>\n",
       "      <td>1</td>\n",
       "    </tr>\n",
       "    <tr>\n",
       "      <th>3</th>\n",
       "      <td>1984 (Signet Classics)</td>\n",
       "      <td>George Orwell</td>\n",
       "      <td>4.7</td>\n",
       "      <td>21424</td>\n",
       "      <td>6</td>\n",
       "      <td>2017</td>\n",
       "      <td>Fiction</td>\n",
       "      <td>1</td>\n",
       "      <td>Cheap</td>\n",
       "      <td>1</td>\n",
       "    </tr>\n",
       "    <tr>\n",
       "      <th>4</th>\n",
       "      <td>5,000 Awesome Facts (About Everything!) (Natio...</td>\n",
       "      <td>National Geographic Kids</td>\n",
       "      <td>4.8</td>\n",
       "      <td>7665</td>\n",
       "      <td>12</td>\n",
       "      <td>2019</td>\n",
       "      <td>Non Fiction</td>\n",
       "      <td>1</td>\n",
       "      <td>Cheap</td>\n",
       "      <td>1</td>\n",
       "    </tr>\n",
       "  </tbody>\n",
       "</table>\n",
       "</div>"
      ],
      "text/plain": [
       "                                                Name  \\\n",
       "0                      10-Day Green Smoothie Cleanse   \n",
       "1                                  11/22/63: A Novel   \n",
       "2            12 Rules for Life: An Antidote to Chaos   \n",
       "3                             1984 (Signet Classics)   \n",
       "4  5,000 Awesome Facts (About Everything!) (Natio...   \n",
       "\n",
       "                     Author  User Rating  Reviews  Price  Year        Genre  \\\n",
       "0                  JJ Smith          4.7    17350      8  2016  Non Fiction   \n",
       "1              Stephen King          4.6     2052     22  2011      Fiction   \n",
       "2        Jordan B. Peterson          4.7    18979     15  2018  Non Fiction   \n",
       "3             George Orwell          4.7    21424      6  2017      Fiction   \n",
       "4  National Geographic Kids          4.8     7665     12  2019  Non Fiction   \n",
       "\n",
       "   Normal Rating Price Category  Profitable Offer  \n",
       "0              1          Cheap                 0  \n",
       "1              1         Medium                 0  \n",
       "2              1          Cheap                 1  \n",
       "3              1          Cheap                 1  \n",
       "4              1          Cheap                 1  "
      ]
     },
     "execution_count": 25,
     "metadata": {},
     "output_type": "execute_result"
    }
   ],
   "source": [
    "books.head()"
   ]
  },
  {
   "cell_type": "code",
   "execution_count": 26,
   "id": "427df94e",
   "metadata": {},
   "outputs": [
    {
     "data": {
      "text/plain": [
       "119"
      ]
     },
     "execution_count": 26,
     "metadata": {},
     "output_type": "execute_result"
    }
   ],
   "source": [
    "books['Profitable Offer']. sum()"
   ]
  },
  {
   "cell_type": "markdown",
   "id": "9af9c925",
   "metadata": {},
   "source": [
    "### 119 книг попадающих под категорию выгодное предложение"
   ]
  },
  {
   "cell_type": "markdown",
   "id": "0ad4693d",
   "metadata": {},
   "source": [
    "### Создадим гистограмму для частотного распределения количественной переменной - цены"
   ]
  },
  {
   "cell_type": "code",
   "execution_count": 27,
   "id": "efba3a29",
   "metadata": {},
   "outputs": [
    {
     "data": {
      "text/plain": [
       "<AxesSubplot:>"
      ]
     },
     "execution_count": 27,
     "metadata": {},
     "output_type": "execute_result"
    },
    {
     "data": {
      "image/png": "[encoded data removed]",
      "text/plain": [
       "<Figure size 432x288 with 1 Axes>"
      ]
     },
     "metadata": {
      "needs_background": "light"
     },
     "output_type": "display_data"
    }
   ],
   "source": [
    "books['Price'].hist(bins = 20)"
   ]
  },
  {
   "cell_type": "markdown",
   "id": "eb030c11",
   "metadata": {},
   "source": [
    "### Теперь создадим стобчатую диаграмму для ценовой категории"
   ]
  },
  {
   "cell_type": "markdown",
   "id": "52a69387",
   "metadata": {},
   "source": [
    "### Поосмотрим как распределяются ценовые категории внутри жанров, создав составной барчарт"
   ]
  },
  {
   "cell_type": "code",
   "execution_count": 28,
   "id": "87bba301",
   "metadata": {
    "scrolled": true
   },
   "outputs": [
    {
     "data": {
      "text/html": [
       "<div>\n",
       "<style scoped>\n",
       "    .dataframe tbody tr th:only-of-type {\n",
       "        vertical-align: middle;\n",
       "    }\n",
       "\n",
       "    .dataframe tbody tr th {\n",
       "        vertical-align: top;\n",
       "    }\n",
       "\n",
       "    .dataframe thead th {\n",
       "        text-align: right;\n",
       "    }\n",
       "</style>\n",
       "<table border=\"1\" class=\"dataframe\">\n",
       "  <thead>\n",
       "    <tr style=\"text-align: right;\">\n",
       "      <th></th>\n",
       "      <th>Cheap</th>\n",
       "      <th>Medium</th>\n",
       "      <th>Expensive</th>\n",
       "    </tr>\n",
       "    <tr>\n",
       "      <th>Genre</th>\n",
       "      <th></th>\n",
       "      <th></th>\n",
       "      <th></th>\n",
       "    </tr>\n",
       "  </thead>\n",
       "  <tbody>\n",
       "    <tr>\n",
       "      <th>Fiction</th>\n",
       "      <td>216</td>\n",
       "      <td>22</td>\n",
       "      <td>2</td>\n",
       "    </tr>\n",
       "    <tr>\n",
       "      <th>Non Fiction</th>\n",
       "      <td>249</td>\n",
       "      <td>57</td>\n",
       "      <td>4</td>\n",
       "    </tr>\n",
       "  </tbody>\n",
       "</table>\n",
       "</div>"
      ],
      "text/plain": [
       "             Cheap  Medium  Expensive\n",
       "Genre                                \n",
       "Fiction        216      22          2\n",
       "Non Fiction    249      57          4"
      ]
     },
     "execution_count": 28,
     "metadata": {},
     "output_type": "execute_result"
    }
   ],
   "source": [
    "books.groupby('Genre')['Price Category'].value_counts().unstack()"
   ]
  },
  {
   "cell_type": "code",
   "execution_count": 29,
   "id": "c969079f",
   "metadata": {},
   "outputs": [
    {
     "data": {
      "text/plain": [
       "<AxesSubplot:xlabel='Genre'>"
      ]
     },
     "execution_count": 29,
     "metadata": {},
     "output_type": "execute_result"
    },
    {
     "data": {
      "image/png": "[encoded data removed]",
      "text/plain": [
       "<Figure size 432x288 with 1 Axes>"
      ]
     },
     "metadata": {
      "needs_background": "light"
     },
     "output_type": "display_data"
    }
   ],
   "source": [
    "books.groupby('Genre')['Price Category'].value_counts().unstack().plot(kind = 'bar',stacked = True)"
   ]
  },
  {
   "cell_type": "markdown",
   "id": "8a0a3f07",
   "metadata": {},
   "source": [
    "### Найдем меры центральной тенденции для столбца Price"
   ]
  },
  {
   "cell_type": "code",
   "execution_count": 30,
   "id": "28bd2bda",
   "metadata": {},
   "outputs": [
    {
     "data": {
      "text/plain": [
       "13.1"
      ]
     },
     "execution_count": 30,
     "metadata": {},
     "output_type": "execute_result"
    }
   ],
   "source": [
    "books['Price'].mean()"
   ]
  },
  {
   "cell_type": "markdown",
   "id": "496df177",
   "metadata": {},
   "source": [
    "### Ср. арифметическое столбца Price равно 13.1"
   ]
  },
  {
   "cell_type": "code",
   "execution_count": 31,
   "id": "0fc48fd1",
   "metadata": {},
   "outputs": [
    {
     "data": {
      "text/plain": [
       "11.0"
      ]
     },
     "execution_count": 31,
     "metadata": {},
     "output_type": "execute_result"
    }
   ],
   "source": [
    "books['Price'].median()"
   ]
  },
  {
   "cell_type": "markdown",
   "id": "eb95d5a4",
   "metadata": {},
   "source": [
    "### Медиана равна 11"
   ]
  },
  {
   "cell_type": "code",
   "execution_count": 32,
   "id": "8b462bcb",
   "metadata": {},
   "outputs": [
    {
     "data": {
      "text/plain": [
       "0    8\n",
       "Name: Price, dtype: int64"
      ]
     },
     "execution_count": 32,
     "metadata": {},
     "output_type": "execute_result"
    }
   ],
   "source": [
    "books['Price'].mode()"
   ]
  },
  {
   "cell_type": "markdown",
   "id": "8beb1cdc",
   "metadata": {},
   "source": [
    "### Моды - 0 и 11"
   ]
  },
  {
   "cell_type": "code",
   "execution_count": 33,
   "id": "d7d9f058",
   "metadata": {},
   "outputs": [
    {
     "data": {
      "text/plain": [
       "Year\n",
       "2009    15.40\n",
       "2010    13.48\n",
       "2011    15.10\n",
       "2012    15.30\n",
       "2013    14.60\n",
       "2014    14.64\n",
       "2015    10.42\n",
       "2016    13.18\n",
       "2017    11.38\n",
       "2018    10.52\n",
       "2019    10.08\n",
       "Name: Price, dtype: float64"
      ]
     },
     "execution_count": 33,
     "metadata": {},
     "output_type": "execute_result"
    }
   ],
   "source": [
    "books. groupby('Year')['Price'].mean()"
   ]
  },
  {
   "cell_type": "markdown",
   "id": "5ceb7d20",
   "metadata": {},
   "source": [
    "### Мы посчиталю среднюю стоимость книги для каждого года и можем увидеть, что самая. высокая стоимсоть была в 2009(15,4), а к 2019 опустилась до 10,08."
   ]
  },
  {
   "cell_type": "code",
   "execution_count": 34,
   "id": "2d0bc4fd",
   "metadata": {},
   "outputs": [
    {
     "data": {
      "text/plain": [
       "Year\n",
       "2009    15.40\n",
       "2010    13.48\n",
       "2011    15.10\n",
       "2012    15.30\n",
       "2013    14.60\n",
       "2014    14.64\n",
       "2015    10.42\n",
       "2016    13.18\n",
       "2017    11.38\n",
       "2018    10.52\n",
       "2019    10.08\n",
       "Name: Price, dtype: float64"
      ]
     },
     "execution_count": 34,
     "metadata": {},
     "output_type": "execute_result"
    }
   ],
   "source": [
    "books. groupby('Year')['Price'].mean()"
   ]
  },
  {
   "cell_type": "markdown",
   "id": "20492f9c",
   "metadata": {},
   "source": [
    "### Теперь посмот рим среднее за год по каждому жанру"
   ]
  },
  {
   "cell_type": "code",
   "execution_count": 35,
   "id": "d2a76f0c",
   "metadata": {},
   "outputs": [
    {
     "data": {
      "text/plain": [
       "Year  Genre      \n",
       "2009  Fiction        15.583333\n",
       "      Non Fiction    15.230769\n",
       "2010  Fiction         9.700000\n",
       "      Non Fiction    16.000000\n",
       "2011  Fiction        11.619048\n",
       "      Non Fiction    17.620690\n",
       "2012  Fiction        12.285714\n",
       "      Non Fiction    17.482759\n",
       "2013  Fiction        10.708333\n",
       "      Non Fiction    18.192308\n",
       "2014  Fiction        10.172414\n",
       "      Non Fiction    20.809524\n",
       "2015  Fiction         9.352941\n",
       "      Non Fiction    10.969697\n",
       "2016  Fiction        12.631579\n",
       "      Non Fiction    13.516129\n",
       "2017  Fiction         8.833333\n",
       "      Non Fiction    13.730769\n",
       "2018  Fiction         8.761905\n",
       "      Non Fiction    11.793103\n",
       "2019  Fiction         9.350000\n",
       "      Non Fiction    10.566667\n",
       "Name: Price, dtype: float64"
      ]
     },
     "execution_count": 35,
     "metadata": {},
     "output_type": "execute_result"
    }
   ],
   "source": [
    "books.groupby(['Year','Genre'])['Price'].mean()"
   ]
  },
  {
   "cell_type": "markdown",
   "id": "f76588d1",
   "metadata": {},
   "source": [
    "### Мы видим, что у книг жанра Non Fiction в большинстве случаев (годов), средяя стоимость выше.\n",
    "\n",
    "### Найдем также медиану"
   ]
  },
  {
   "cell_type": "code",
   "execution_count": 36,
   "id": "7bd5786a",
   "metadata": {},
   "outputs": [
    {
     "data": {
      "text/plain": [
       "Year  Genre      \n",
       "2009  Fiction        11.5\n",
       "      Non Fiction    13.5\n",
       "2010  Fiction        10.0\n",
       "      Non Fiction    14.0\n",
       "2011  Fiction        10.0\n",
       "      Non Fiction    15.0\n",
       "2012  Fiction        11.0\n",
       "      Non Fiction    16.0\n",
       "2013  Fiction        12.0\n",
       "      Non Fiction    13.0\n",
       "2014  Fiction         8.0\n",
       "      Non Fiction    15.0\n",
       "2015  Fiction         9.0\n",
       "      Non Fiction     9.0\n",
       "2016  Fiction         9.0\n",
       "      Non Fiction    10.0\n",
       "2017  Fiction         7.5\n",
       "      Non Fiction    11.0\n",
       "2018  Fiction         8.0\n",
       "      Non Fiction    11.0\n",
       "2019  Fiction         8.0\n",
       "      Non Fiction    11.0\n",
       "Name: Price, dtype: float64"
      ]
     },
     "execution_count": 36,
     "metadata": {},
     "output_type": "execute_result"
    }
   ],
   "source": [
    "books.groupby(['Year','Genre'])['Price'].median()"
   ]
  },
  {
   "cell_type": "markdown",
   "id": "381ce745",
   "metadata": {},
   "source": [
    "### Проверим какой жанр наиболее часто встречается в каждом году (найдем моду)"
   ]
  },
  {
   "cell_type": "code",
   "execution_count": 37,
   "id": "8b097b22",
   "metadata": {},
   "outputs": [
    {
     "data": {
      "text/plain": [
       "Year\n",
       "2009    Non Fiction\n",
       "2010    Non Fiction\n",
       "2011    Non Fiction\n",
       "2012    Non Fiction\n",
       "2013    Non Fiction\n",
       "2014        Fiction\n",
       "2015    Non Fiction\n",
       "2016    Non Fiction\n",
       "2017    Non Fiction\n",
       "2018    Non Fiction\n",
       "2019    Non Fiction\n",
       "Name: Genre, dtype: object"
      ]
     },
     "execution_count": 37,
     "metadata": {},
     "output_type": "execute_result"
    }
   ],
   "source": [
    "books.groupby('Year')['Genre'].agg(lambda x: x.value_counts().index[0])"
   ]
  },
  {
   "cell_type": "markdown",
   "id": "76d501ad",
   "metadata": {},
   "source": [
    "### Соответственно, наиболее популярный (часто встречающийся жанр) - это Non Fiction (средняя стоимость на него также выше)"
   ]
  },
  {
   "cell_type": "code",
   "execution_count": 38,
   "id": "0891e5e4",
   "metadata": {},
   "outputs": [
    {
     "data": {
      "text/html": [
       "<div>\n",
       "<style scoped>\n",
       "    .dataframe tbody tr th:only-of-type {\n",
       "        vertical-align: middle;\n",
       "    }\n",
       "\n",
       "    .dataframe tbody tr th {\n",
       "        vertical-align: top;\n",
       "    }\n",
       "\n",
       "    .dataframe thead tr th {\n",
       "        text-align: left;\n",
       "    }\n",
       "\n",
       "    .dataframe thead tr:last-of-type th {\n",
       "        text-align: right;\n",
       "    }\n",
       "</style>\n",
       "<table border=\"1\" class=\"dataframe\">\n",
       "  <thead>\n",
       "    <tr>\n",
       "      <th></th>\n",
       "      <th colspan=\"2\" halign=\"left\">mean</th>\n",
       "      <th colspan=\"2\" halign=\"left\">median</th>\n",
       "    </tr>\n",
       "    <tr>\n",
       "      <th></th>\n",
       "      <th>Price</th>\n",
       "      <th>User Rating</th>\n",
       "      <th>Price</th>\n",
       "      <th>User Rating</th>\n",
       "    </tr>\n",
       "    <tr>\n",
       "      <th>Year</th>\n",
       "      <th></th>\n",
       "      <th></th>\n",
       "      <th></th>\n",
       "      <th></th>\n",
       "    </tr>\n",
       "  </thead>\n",
       "  <tbody>\n",
       "    <tr>\n",
       "      <th>2009</th>\n",
       "      <td>15.40</td>\n",
       "      <td>4.584</td>\n",
       "      <td>12.0</td>\n",
       "      <td>4.60</td>\n",
       "    </tr>\n",
       "    <tr>\n",
       "      <th>2010</th>\n",
       "      <td>13.48</td>\n",
       "      <td>4.558</td>\n",
       "      <td>12.5</td>\n",
       "      <td>4.60</td>\n",
       "    </tr>\n",
       "    <tr>\n",
       "      <th>2011</th>\n",
       "      <td>15.10</td>\n",
       "      <td>4.558</td>\n",
       "      <td>13.0</td>\n",
       "      <td>4.60</td>\n",
       "    </tr>\n",
       "    <tr>\n",
       "      <th>2012</th>\n",
       "      <td>15.30</td>\n",
       "      <td>4.532</td>\n",
       "      <td>13.0</td>\n",
       "      <td>4.60</td>\n",
       "    </tr>\n",
       "    <tr>\n",
       "      <th>2013</th>\n",
       "      <td>14.60</td>\n",
       "      <td>4.554</td>\n",
       "      <td>12.5</td>\n",
       "      <td>4.60</td>\n",
       "    </tr>\n",
       "    <tr>\n",
       "      <th>2014</th>\n",
       "      <td>14.64</td>\n",
       "      <td>4.622</td>\n",
       "      <td>10.0</td>\n",
       "      <td>4.65</td>\n",
       "    </tr>\n",
       "    <tr>\n",
       "      <th>2015</th>\n",
       "      <td>10.42</td>\n",
       "      <td>4.648</td>\n",
       "      <td>9.0</td>\n",
       "      <td>4.70</td>\n",
       "    </tr>\n",
       "    <tr>\n",
       "      <th>2016</th>\n",
       "      <td>13.18</td>\n",
       "      <td>4.678</td>\n",
       "      <td>9.0</td>\n",
       "      <td>4.70</td>\n",
       "    </tr>\n",
       "    <tr>\n",
       "      <th>2017</th>\n",
       "      <td>11.38</td>\n",
       "      <td>4.660</td>\n",
       "      <td>9.0</td>\n",
       "      <td>4.70</td>\n",
       "    </tr>\n",
       "    <tr>\n",
       "      <th>2018</th>\n",
       "      <td>10.52</td>\n",
       "      <td>4.668</td>\n",
       "      <td>8.0</td>\n",
       "      <td>4.70</td>\n",
       "    </tr>\n",
       "    <tr>\n",
       "      <th>2019</th>\n",
       "      <td>10.08</td>\n",
       "      <td>4.740</td>\n",
       "      <td>10.0</td>\n",
       "      <td>4.80</td>\n",
       "    </tr>\n",
       "  </tbody>\n",
       "</table>\n",
       "</div>"
      ],
      "text/plain": [
       "       mean             median            \n",
       "      Price User Rating  Price User Rating\n",
       "Year                                      \n",
       "2009  15.40       4.584   12.0        4.60\n",
       "2010  13.48       4.558   12.5        4.60\n",
       "2011  15.10       4.558   13.0        4.60\n",
       "2012  15.30       4.532   13.0        4.60\n",
       "2013  14.60       4.554   12.5        4.60\n",
       "2014  14.64       4.622   10.0        4.65\n",
       "2015  10.42       4.648    9.0        4.70\n",
       "2016  13.18       4.678    9.0        4.70\n",
       "2017  11.38       4.660    9.0        4.70\n",
       "2018  10.52       4.668    8.0        4.70\n",
       "2019  10.08       4.740   10.0        4.80"
      ]
     },
     "execution_count": 38,
     "metadata": {},
     "output_type": "execute_result"
    }
   ],
   "source": [
    "books.pivot_table(index='Year',\n",
    "                 values=['User Rating','Price'],\n",
    "                 aggfunc=['mean','median'])"
   ]
  },
  {
   "cell_type": "markdown",
   "id": "908e4eb9",
   "metadata": {},
   "source": [
    "### Создали сводную таблицу по годам, где отображаются ср. арифметическое и медиана для переменных Рейтинг и Стоимость."
   ]
  },
  {
   "cell_type": "markdown",
   "id": "5dcca7b8",
   "metadata": {},
   "source": [
    "### Сагрегируем мини датасет books_year где будет посчитана суммарное кол-во отзывов за каждый год"
   ]
  },
  {
   "cell_type": "code",
   "execution_count": 39,
   "id": "75ce9305",
   "metadata": {},
   "outputs": [
    {
     "data": {
      "text/html": [
       "<div>\n",
       "<style scoped>\n",
       "    .dataframe tbody tr th:only-of-type {\n",
       "        vertical-align: middle;\n",
       "    }\n",
       "\n",
       "    .dataframe tbody tr th {\n",
       "        vertical-align: top;\n",
       "    }\n",
       "\n",
       "    .dataframe thead th {\n",
       "        text-align: right;\n",
       "    }\n",
       "</style>\n",
       "<table border=\"1\" class=\"dataframe\">\n",
       "  <thead>\n",
       "    <tr style=\"text-align: right;\">\n",
       "      <th></th>\n",
       "      <th>Reviews</th>\n",
       "    </tr>\n",
       "    <tr>\n",
       "      <th>Year</th>\n",
       "      <th></th>\n",
       "    </tr>\n",
       "  </thead>\n",
       "  <tbody>\n",
       "    <tr>\n",
       "      <th>2009</th>\n",
       "      <td>235506</td>\n",
       "    </tr>\n",
       "    <tr>\n",
       "      <th>2010</th>\n",
       "      <td>273981</td>\n",
       "    </tr>\n",
       "    <tr>\n",
       "      <th>2011</th>\n",
       "      <td>405041</td>\n",
       "    </tr>\n",
       "    <tr>\n",
       "      <th>2012</th>\n",
       "      <td>654546</td>\n",
       "    </tr>\n",
       "    <tr>\n",
       "      <th>2013</th>\n",
       "      <td>654907</td>\n",
       "    </tr>\n",
       "    <tr>\n",
       "      <th>2014</th>\n",
       "      <td>792997</td>\n",
       "    </tr>\n",
       "    <tr>\n",
       "      <th>2015</th>\n",
       "      <td>711669</td>\n",
       "    </tr>\n",
       "    <tr>\n",
       "      <th>2016</th>\n",
       "      <td>709800</td>\n",
       "    </tr>\n",
       "    <tr>\n",
       "      <th>2017</th>\n",
       "      <td>644420</td>\n",
       "    </tr>\n",
       "    <tr>\n",
       "      <th>2018</th>\n",
       "      <td>696521</td>\n",
       "    </tr>\n",
       "    <tr>\n",
       "      <th>2019</th>\n",
       "      <td>794917</td>\n",
       "    </tr>\n",
       "  </tbody>\n",
       "</table>\n",
       "</div>"
      ],
      "text/plain": [
       "      Reviews\n",
       "Year         \n",
       "2009   235506\n",
       "2010   273981\n",
       "2011   405041\n",
       "2012   654546\n",
       "2013   654907\n",
       "2014   792997\n",
       "2015   711669\n",
       "2016   709800\n",
       "2017   644420\n",
       "2018   696521\n",
       "2019   794917"
      ]
     },
     "execution_count": 39,
     "metadata": {},
     "output_type": "execute_result"
    }
   ],
   "source": [
    "books_year = pd.DataFrame(books.groupby('Year')['Reviews'].sum())\n",
    "books_year"
   ]
  },
  {
   "cell_type": "code",
   "execution_count": 40,
   "id": "ea9f5ccc",
   "metadata": {},
   "outputs": [
    {
     "data": {
      "text/plain": [
       "<AxesSubplot:xlabel='Year'>"
      ]
     },
     "execution_count": 40,
     "metadata": {},
     "output_type": "execute_result"
    },
    {
     "data": {
      "image/png": "[encoded data removed]",
      "text/plain": [
       "<Figure size 432x288 with 1 Axes>"
      ]
     },
     "metadata": {
      "needs_background": "light"
     },
     "output_type": "display_data"
    }
   ],
   "source": [
    "books_year.plot(kind = 'bar')"
   ]
  },
  {
   "cell_type": "markdown",
   "id": "30d11de0",
   "metadata": {},
   "source": [
    "### В 2014 и в 2019 пользооователи наиболее охотно оставляли отзывы на книги."
   ]
  },
  {
   "cell_type": "markdown",
   "id": "dfcaa628",
   "metadata": {},
   "source": [
    "### Найдем размах"
   ]
  },
  {
   "cell_type": "code",
   "execution_count": 41,
   "id": "837c16ab",
   "metadata": {},
   "outputs": [
    {
     "data": {
      "text/plain": [
       "559411"
      ]
     },
     "execution_count": 41,
     "metadata": {},
     "output_type": "execute_result"
    }
   ],
   "source": [
    "books_year['Reviews'].max() - books_year['Reviews'].min()"
   ]
  },
  {
   "cell_type": "markdown",
   "id": "4aac1f19",
   "metadata": {},
   "source": [
    "### Теперь найдем интерквартильный размах (для этого нам нужно из 75 вычесть 25 перцентиль)"
   ]
  },
  {
   "cell_type": "code",
   "execution_count": 42,
   "id": "dfff593b",
   "metadata": {},
   "outputs": [
    {
     "data": {
      "text/plain": [
       "186004.0"
      ]
     },
     "execution_count": 42,
     "metadata": {},
     "output_type": "execute_result"
    }
   ],
   "source": [
    "np.percentile (books_year['Reviews'],75)  -  np.percentile (books_year['Reviews'],25)"
   ]
  },
  {
   "cell_type": "markdown",
   "id": "ebeb533e",
   "metadata": {},
   "source": [
    "### Размах и интерквартильный размех равны 559411 и 186004.0 соответственно."
   ]
  },
  {
   "cell_type": "markdown",
   "id": "a2bd7544",
   "metadata": {},
   "source": [
    "### Найдем дисперсию и среднеквадратичное отклонение для выборки"
   ]
  },
  {
   "cell_type": "code",
   "execution_count": 43,
   "id": "f12bff5b",
   "metadata": {},
   "outputs": [
    {
     "name": "stdout",
     "output_type": "stream",
     "text": [
      "39413922395.8909\n",
      "198529.39932385556\n"
     ]
    }
   ],
   "source": [
    "print(books_year['Reviews'].var())\n",
    "print(books_year['Reviews'].std())"
   ]
  },
  {
   "cell_type": "markdown",
   "id": "8d58c60c",
   "metadata": {},
   "source": [
    "### Найдем дисперсию и среднеквадратичное отклонение для ген. совокупности"
   ]
  },
  {
   "cell_type": "code",
   "execution_count": 44,
   "id": "6f80867f",
   "metadata": {},
   "outputs": [
    {
     "name": "stdout",
     "output_type": "stream",
     "text": [
      "35830838541.719\n",
      "189290.35512069546\n"
     ]
    }
   ],
   "source": [
    "print(books_year['Reviews'].var(ddof=0))\n",
    "print(books_year['Reviews'].std(ddof=0))"
   ]
  },
  {
   "cell_type": "markdown",
   "id": "20544441",
   "metadata": {},
   "source": [
    "### Среднее и среднеквадратичное отклонение кол-ва отзывов за каждый год"
   ]
  },
  {
   "cell_type": "code",
   "execution_count": 45,
   "id": "a9069f35",
   "metadata": {},
   "outputs": [
    {
     "data": {
      "text/html": [
       "<div>\n",
       "<style scoped>\n",
       "    .dataframe tbody tr th:only-of-type {\n",
       "        vertical-align: middle;\n",
       "    }\n",
       "\n",
       "    .dataframe tbody tr th {\n",
       "        vertical-align: top;\n",
       "    }\n",
       "\n",
       "    .dataframe thead th {\n",
       "        text-align: right;\n",
       "    }\n",
       "</style>\n",
       "<table border=\"1\" class=\"dataframe\">\n",
       "  <thead>\n",
       "    <tr style=\"text-align: right;\">\n",
       "      <th></th>\n",
       "      <th>mean</th>\n",
       "      <th>std</th>\n",
       "    </tr>\n",
       "    <tr>\n",
       "      <th>Year</th>\n",
       "      <th></th>\n",
       "      <th></th>\n",
       "    </tr>\n",
       "  </thead>\n",
       "  <tbody>\n",
       "    <tr>\n",
       "      <th>2009</th>\n",
       "      <td>4710.12</td>\n",
       "      <td>4044.634928</td>\n",
       "    </tr>\n",
       "    <tr>\n",
       "      <th>2010</th>\n",
       "      <td>5479.62</td>\n",
       "      <td>7443.268612</td>\n",
       "    </tr>\n",
       "    <tr>\n",
       "      <th>2011</th>\n",
       "      <td>8100.82</td>\n",
       "      <td>7384.113166</td>\n",
       "    </tr>\n",
       "    <tr>\n",
       "      <th>2012</th>\n",
       "      <td>13090.92</td>\n",
       "      <td>12444.619150</td>\n",
       "    </tr>\n",
       "    <tr>\n",
       "      <th>2013</th>\n",
       "      <td>13098.14</td>\n",
       "      <td>12915.815085</td>\n",
       "    </tr>\n",
       "    <tr>\n",
       "      <th>2014</th>\n",
       "      <td>15859.94</td>\n",
       "      <td>13736.714216</td>\n",
       "    </tr>\n",
       "    <tr>\n",
       "      <th>2015</th>\n",
       "      <td>14233.38</td>\n",
       "      <td>14269.180422</td>\n",
       "    </tr>\n",
       "    <tr>\n",
       "      <th>2016</th>\n",
       "      <td>14196.00</td>\n",
       "      <td>13017.119185</td>\n",
       "    </tr>\n",
       "    <tr>\n",
       "      <th>2017</th>\n",
       "      <td>12888.40</td>\n",
       "      <td>7763.144174</td>\n",
       "    </tr>\n",
       "    <tr>\n",
       "      <th>2018</th>\n",
       "      <td>13930.42</td>\n",
       "      <td>10242.419393</td>\n",
       "    </tr>\n",
       "    <tr>\n",
       "      <th>2019</th>\n",
       "      <td>15898.34</td>\n",
       "      <td>14357.138999</td>\n",
       "    </tr>\n",
       "  </tbody>\n",
       "</table>\n",
       "</div>"
      ],
      "text/plain": [
       "          mean           std\n",
       "Year                        \n",
       "2009   4710.12   4044.634928\n",
       "2010   5479.62   7443.268612\n",
       "2011   8100.82   7384.113166\n",
       "2012  13090.92  12444.619150\n",
       "2013  13098.14  12915.815085\n",
       "2014  15859.94  13736.714216\n",
       "2015  14233.38  14269.180422\n",
       "2016  14196.00  13017.119185\n",
       "2017  12888.40   7763.144174\n",
       "2018  13930.42  10242.419393\n",
       "2019  15898.34  14357.138999"
      ]
     },
     "execution_count": 45,
     "metadata": {},
     "output_type": "execute_result"
    }
   ],
   "source": [
    "books.groupby('Year')['Reviews'].agg(['mean','std'])"
   ]
  },
  {
   "cell_type": "markdown",
   "id": "fcb1ef19",
   "metadata": {},
   "source": [
    "### Зададим формулу чтоб можно было считать интерквартильный размах "
   ]
  },
  {
   "cell_type": "code",
   "execution_count": 46,
   "id": "75d71e65",
   "metadata": {},
   "outputs": [],
   "source": [
    "def range_values(x):\n",
    "    return x.max()-x.min()"
   ]
  },
  {
   "cell_type": "code",
   "execution_count": 47,
   "id": "0ce20d94",
   "metadata": {},
   "outputs": [
    {
     "data": {
      "text/html": [
       "<div>\n",
       "<style scoped>\n",
       "    .dataframe tbody tr th:only-of-type {\n",
       "        vertical-align: middle;\n",
       "    }\n",
       "\n",
       "    .dataframe tbody tr th {\n",
       "        vertical-align: top;\n",
       "    }\n",
       "\n",
       "    .dataframe thead tr th {\n",
       "        text-align: left;\n",
       "    }\n",
       "\n",
       "    .dataframe thead tr:last-of-type th {\n",
       "        text-align: right;\n",
       "    }\n",
       "</style>\n",
       "<table border=\"1\" class=\"dataframe\">\n",
       "  <thead>\n",
       "    <tr>\n",
       "      <th></th>\n",
       "      <th colspan=\"2\" halign=\"left\">var</th>\n",
       "      <th colspan=\"2\" halign=\"left\">std</th>\n",
       "      <th colspan=\"2\" halign=\"left\">range_values</th>\n",
       "    </tr>\n",
       "    <tr>\n",
       "      <th></th>\n",
       "      <th>Reviews</th>\n",
       "      <th>User Rating</th>\n",
       "      <th>Reviews</th>\n",
       "      <th>User Rating</th>\n",
       "      <th>Reviews</th>\n",
       "      <th>User Rating</th>\n",
       "    </tr>\n",
       "    <tr>\n",
       "      <th>Year</th>\n",
       "      <th></th>\n",
       "      <th></th>\n",
       "      <th></th>\n",
       "      <th></th>\n",
       "      <th></th>\n",
       "      <th></th>\n",
       "    </tr>\n",
       "  </thead>\n",
       "  <tbody>\n",
       "    <tr>\n",
       "      <th>2009</th>\n",
       "      <td>1.635907e+07</td>\n",
       "      <td>0.040963</td>\n",
       "      <td>4044.634928</td>\n",
       "      <td>0.202394</td>\n",
       "      <td>19683</td>\n",
       "      <td>0.8</td>\n",
       "    </tr>\n",
       "    <tr>\n",
       "      <th>2010</th>\n",
       "      <td>5.540225e+07</td>\n",
       "      <td>0.037180</td>\n",
       "      <td>7443.268612</td>\n",
       "      <td>0.192820</td>\n",
       "      <td>31714</td>\n",
       "      <td>0.8</td>\n",
       "    </tr>\n",
       "    <tr>\n",
       "      <th>2011</th>\n",
       "      <td>5.452513e+07</td>\n",
       "      <td>0.041261</td>\n",
       "      <td>7384.113166</td>\n",
       "      <td>0.203129</td>\n",
       "      <td>31485</td>\n",
       "      <td>0.9</td>\n",
       "    </tr>\n",
       "    <tr>\n",
       "      <th>2012</th>\n",
       "      <td>1.548685e+08</td>\n",
       "      <td>0.083037</td>\n",
       "      <td>12444.619150</td>\n",
       "      <td>0.288161</td>\n",
       "      <td>56070</td>\n",
       "      <td>1.6</td>\n",
       "    </tr>\n",
       "    <tr>\n",
       "      <th>2013</th>\n",
       "      <td>1.668183e+08</td>\n",
       "      <td>0.083759</td>\n",
       "      <td>12915.815085</td>\n",
       "      <td>0.289412</td>\n",
       "      <td>57051</td>\n",
       "      <td>1.1</td>\n",
       "    </tr>\n",
       "    <tr>\n",
       "      <th>2014</th>\n",
       "      <td>1.886973e+08</td>\n",
       "      <td>0.049506</td>\n",
       "      <td>13736.714216</td>\n",
       "      <td>0.222500</td>\n",
       "      <td>56293</td>\n",
       "      <td>1.0</td>\n",
       "    </tr>\n",
       "    <tr>\n",
       "      <th>2015</th>\n",
       "      <td>2.036095e+08</td>\n",
       "      <td>0.054792</td>\n",
       "      <td>14269.180422</td>\n",
       "      <td>0.234077</td>\n",
       "      <td>77573</td>\n",
       "      <td>1.3</td>\n",
       "    </tr>\n",
       "    <tr>\n",
       "      <th>2016</th>\n",
       "      <td>1.694454e+08</td>\n",
       "      <td>0.045016</td>\n",
       "      <td>13017.119185</td>\n",
       "      <td>0.212171</td>\n",
       "      <td>78639</td>\n",
       "      <td>0.9</td>\n",
       "    </tr>\n",
       "    <tr>\n",
       "      <th>2017</th>\n",
       "      <td>6.026641e+07</td>\n",
       "      <td>0.035918</td>\n",
       "      <td>7763.144174</td>\n",
       "      <td>0.189521</td>\n",
       "      <td>27611</td>\n",
       "      <td>0.9</td>\n",
       "    </tr>\n",
       "    <tr>\n",
       "      <th>2018</th>\n",
       "      <td>1.049072e+08</td>\n",
       "      <td>0.037731</td>\n",
       "      <td>10242.419393</td>\n",
       "      <td>0.194244</td>\n",
       "      <td>58626</td>\n",
       "      <td>0.7</td>\n",
       "    </tr>\n",
       "    <tr>\n",
       "      <th>2019</th>\n",
       "      <td>2.061274e+08</td>\n",
       "      <td>0.023673</td>\n",
       "      <td>14357.138999</td>\n",
       "      <td>0.153862</td>\n",
       "      <td>85097</td>\n",
       "      <td>0.6</td>\n",
       "    </tr>\n",
       "  </tbody>\n",
       "</table>\n",
       "</div>"
      ],
      "text/plain": [
       "               var                       std             range_values  \\\n",
       "           Reviews User Rating       Reviews User Rating      Reviews   \n",
       "Year                                                                    \n",
       "2009  1.635907e+07    0.040963   4044.634928    0.202394        19683   \n",
       "2010  5.540225e+07    0.037180   7443.268612    0.192820        31714   \n",
       "2011  5.452513e+07    0.041261   7384.113166    0.203129        31485   \n",
       "2012  1.548685e+08    0.083037  12444.619150    0.288161        56070   \n",
       "2013  1.668183e+08    0.083759  12915.815085    0.289412        57051   \n",
       "2014  1.886973e+08    0.049506  13736.714216    0.222500        56293   \n",
       "2015  2.036095e+08    0.054792  14269.180422    0.234077        77573   \n",
       "2016  1.694454e+08    0.045016  13017.119185    0.212171        78639   \n",
       "2017  6.026641e+07    0.035918   7763.144174    0.189521        27611   \n",
       "2018  1.049072e+08    0.037731  10242.419393    0.194244        58626   \n",
       "2019  2.061274e+08    0.023673  14357.138999    0.153862        85097   \n",
       "\n",
       "                  \n",
       "     User Rating  \n",
       "Year              \n",
       "2009         0.8  \n",
       "2010         0.8  \n",
       "2011         0.9  \n",
       "2012         1.6  \n",
       "2013         1.1  \n",
       "2014         1.0  \n",
       "2015         1.3  \n",
       "2016         0.9  \n",
       "2017         0.9  \n",
       "2018         0.7  \n",
       "2019         0.6  "
      ]
     },
     "execution_count": 47,
     "metadata": {},
     "output_type": "execute_result"
    }
   ],
   "source": [
    "books.pivot_table (index= 'Year',\n",
    "                  values = ['Reviews', 'User Rating'],\n",
    "                  aggfunc = ['var','std', range_values])"
   ]
  },
  {
   "cell_type": "markdown",
   "id": "3bc289af",
   "metadata": {},
   "source": [
    "### Нашли меры разброса по каждому году для Отзывов и Рейтинга"
   ]
  },
  {
   "cell_type": "code",
   "execution_count": 48,
   "id": "16ac1b38",
   "metadata": {},
   "outputs": [],
   "source": [
    "import scipy.stats"
   ]
  },
  {
   "cell_type": "code",
   "execution_count": 49,
   "id": "cf5c5a05",
   "metadata": {},
   "outputs": [
    {
     "data": {
      "text/html": [
       "<div>\n",
       "<style scoped>\n",
       "    .dataframe tbody tr th:only-of-type {\n",
       "        vertical-align: middle;\n",
       "    }\n",
       "\n",
       "    .dataframe tbody tr th {\n",
       "        vertical-align: top;\n",
       "    }\n",
       "\n",
       "    .dataframe thead th {\n",
       "        text-align: right;\n",
       "    }\n",
       "</style>\n",
       "<table border=\"1\" class=\"dataframe\">\n",
       "  <thead>\n",
       "    <tr style=\"text-align: right;\">\n",
       "      <th></th>\n",
       "      <th>Name</th>\n",
       "      <th>Author</th>\n",
       "      <th>User Rating</th>\n",
       "      <th>Reviews</th>\n",
       "      <th>Price</th>\n",
       "      <th>Year</th>\n",
       "      <th>Genre</th>\n",
       "      <th>Normal Rating</th>\n",
       "      <th>Price Category</th>\n",
       "      <th>Profitable Offer</th>\n",
       "      <th>z-score</th>\n",
       "    </tr>\n",
       "  </thead>\n",
       "  <tbody>\n",
       "    <tr>\n",
       "      <th>0</th>\n",
       "      <td>10-Day Green Smoothie Cleanse</td>\n",
       "      <td>JJ Smith</td>\n",
       "      <td>4.7</td>\n",
       "      <td>17350</td>\n",
       "      <td>8</td>\n",
       "      <td>2016</td>\n",
       "      <td>Non Fiction</td>\n",
       "      <td>1</td>\n",
       "      <td>Cheap</td>\n",
       "      <td>0</td>\n",
       "      <td>0.359990</td>\n",
       "    </tr>\n",
       "    <tr>\n",
       "      <th>1</th>\n",
       "      <td>11/22/63: A Novel</td>\n",
       "      <td>Stephen King</td>\n",
       "      <td>4.6</td>\n",
       "      <td>2052</td>\n",
       "      <td>22</td>\n",
       "      <td>2011</td>\n",
       "      <td>Fiction</td>\n",
       "      <td>1</td>\n",
       "      <td>Medium</td>\n",
       "      <td>0</td>\n",
       "      <td>-0.080978</td>\n",
       "    </tr>\n",
       "    <tr>\n",
       "      <th>2</th>\n",
       "      <td>12 Rules for Life: An Antidote to Chaos</td>\n",
       "      <td>Jordan B. Peterson</td>\n",
       "      <td>4.7</td>\n",
       "      <td>18979</td>\n",
       "      <td>15</td>\n",
       "      <td>2018</td>\n",
       "      <td>Non Fiction</td>\n",
       "      <td>1</td>\n",
       "      <td>Cheap</td>\n",
       "      <td>1</td>\n",
       "      <td>0.359990</td>\n",
       "    </tr>\n",
       "    <tr>\n",
       "      <th>3</th>\n",
       "      <td>1984 (Signet Classics)</td>\n",
       "      <td>George Orwell</td>\n",
       "      <td>4.7</td>\n",
       "      <td>21424</td>\n",
       "      <td>6</td>\n",
       "      <td>2017</td>\n",
       "      <td>Fiction</td>\n",
       "      <td>1</td>\n",
       "      <td>Cheap</td>\n",
       "      <td>1</td>\n",
       "      <td>0.359990</td>\n",
       "    </tr>\n",
       "    <tr>\n",
       "      <th>4</th>\n",
       "      <td>5,000 Awesome Facts (About Everything!) (Natio...</td>\n",
       "      <td>National Geographic Kids</td>\n",
       "      <td>4.8</td>\n",
       "      <td>7665</td>\n",
       "      <td>12</td>\n",
       "      <td>2019</td>\n",
       "      <td>Non Fiction</td>\n",
       "      <td>1</td>\n",
       "      <td>Cheap</td>\n",
       "      <td>1</td>\n",
       "      <td>0.800958</td>\n",
       "    </tr>\n",
       "  </tbody>\n",
       "</table>\n",
       "</div>"
      ],
      "text/plain": [
       "                                                Name  \\\n",
       "0                      10-Day Green Smoothie Cleanse   \n",
       "1                                  11/22/63: A Novel   \n",
       "2            12 Rules for Life: An Antidote to Chaos   \n",
       "3                             1984 (Signet Classics)   \n",
       "4  5,000 Awesome Facts (About Everything!) (Natio...   \n",
       "\n",
       "                     Author  User Rating  Reviews  Price  Year        Genre  \\\n",
       "0                  JJ Smith          4.7    17350      8  2016  Non Fiction   \n",
       "1              Stephen King          4.6     2052     22  2011      Fiction   \n",
       "2        Jordan B. Peterson          4.7    18979     15  2018  Non Fiction   \n",
       "3             George Orwell          4.7    21424      6  2017      Fiction   \n",
       "4  National Geographic Kids          4.8     7665     12  2019  Non Fiction   \n",
       "\n",
       "   Normal Rating Price Category  Profitable Offer   z-score  \n",
       "0              1          Cheap                 0  0.359990  \n",
       "1              1         Medium                 0 -0.080978  \n",
       "2              1          Cheap                 1  0.359990  \n",
       "3              1          Cheap                 1  0.359990  \n",
       "4              1          Cheap                 1  0.800958  "
      ]
     },
     "execution_count": 49,
     "metadata": {},
     "output_type": "execute_result"
    }
   ],
   "source": [
    "books['z-score'] = scipy.stats.zscore(books['User Rating'])\n",
    "books.head()"
   ]
  },
  {
   "cell_type": "code",
   "execution_count": 50,
   "id": "e5fb0deb",
   "metadata": {
    "scrolled": true
   },
   "outputs": [
    {
     "data": {
      "text/html": [
       "<div>\n",
       "<style scoped>\n",
       "    .dataframe tbody tr th:only-of-type {\n",
       "        vertical-align: middle;\n",
       "    }\n",
       "\n",
       "    .dataframe tbody tr th {\n",
       "        vertical-align: top;\n",
       "    }\n",
       "\n",
       "    .dataframe thead th {\n",
       "        text-align: right;\n",
       "    }\n",
       "</style>\n",
       "<table border=\"1\" class=\"dataframe\">\n",
       "  <thead>\n",
       "    <tr style=\"text-align: right;\">\n",
       "      <th></th>\n",
       "      <th>Name</th>\n",
       "      <th>Author</th>\n",
       "      <th>User Rating</th>\n",
       "      <th>Reviews</th>\n",
       "      <th>Price</th>\n",
       "      <th>Year</th>\n",
       "      <th>Genre</th>\n",
       "      <th>Normal Rating</th>\n",
       "      <th>Price Category</th>\n",
       "      <th>Profitable Offer</th>\n",
       "      <th>z-score</th>\n",
       "    </tr>\n",
       "  </thead>\n",
       "  <tbody>\n",
       "    <tr>\n",
       "      <th>22</th>\n",
       "      <td>Allegiant</td>\n",
       "      <td>Veronica Roth</td>\n",
       "      <td>3.9</td>\n",
       "      <td>6310</td>\n",
       "      <td>13</td>\n",
       "      <td>2013</td>\n",
       "      <td>Fiction</td>\n",
       "      <td>0</td>\n",
       "      <td>Cheap</td>\n",
       "      <td>0</td>\n",
       "      <td>-3.167752</td>\n",
       "    </tr>\n",
       "    <tr>\n",
       "      <th>106</th>\n",
       "      <td>Fifty Shades of Grey: Book One of the Fifty Sh...</td>\n",
       "      <td>E L James</td>\n",
       "      <td>3.8</td>\n",
       "      <td>47265</td>\n",
       "      <td>14</td>\n",
       "      <td>2012</td>\n",
       "      <td>Fiction</td>\n",
       "      <td>0</td>\n",
       "      <td>Cheap</td>\n",
       "      <td>0</td>\n",
       "      <td>-3.608720</td>\n",
       "    </tr>\n",
       "    <tr>\n",
       "      <th>107</th>\n",
       "      <td>Fifty Shades of Grey: Book One of the Fifty Sh...</td>\n",
       "      <td>E L James</td>\n",
       "      <td>3.8</td>\n",
       "      <td>47265</td>\n",
       "      <td>14</td>\n",
       "      <td>2013</td>\n",
       "      <td>Fiction</td>\n",
       "      <td>0</td>\n",
       "      <td>Cheap</td>\n",
       "      <td>0</td>\n",
       "      <td>-3.608720</td>\n",
       "    </tr>\n",
       "    <tr>\n",
       "      <th>132</th>\n",
       "      <td>Go Set a Watchman: A Novel</td>\n",
       "      <td>Harper Lee</td>\n",
       "      <td>3.6</td>\n",
       "      <td>14982</td>\n",
       "      <td>19</td>\n",
       "      <td>2015</td>\n",
       "      <td>Fiction</td>\n",
       "      <td>0</td>\n",
       "      <td>Cheap</td>\n",
       "      <td>0</td>\n",
       "      <td>-4.490656</td>\n",
       "    </tr>\n",
       "    <tr>\n",
       "      <th>353</th>\n",
       "      <td>The Casual Vacancy</td>\n",
       "      <td>J.K. Rowling</td>\n",
       "      <td>3.3</td>\n",
       "      <td>9372</td>\n",
       "      <td>12</td>\n",
       "      <td>2012</td>\n",
       "      <td>Fiction</td>\n",
       "      <td>0</td>\n",
       "      <td>Cheap</td>\n",
       "      <td>0</td>\n",
       "      <td>-5.813559</td>\n",
       "    </tr>\n",
       "    <tr>\n",
       "      <th>392</th>\n",
       "      <td>The Goldfinch: A Novel (Pulitzer Prize for Fic...</td>\n",
       "      <td>Donna Tartt</td>\n",
       "      <td>3.9</td>\n",
       "      <td>33844</td>\n",
       "      <td>20</td>\n",
       "      <td>2013</td>\n",
       "      <td>Fiction</td>\n",
       "      <td>0</td>\n",
       "      <td>Medium</td>\n",
       "      <td>0</td>\n",
       "      <td>-3.167752</td>\n",
       "    </tr>\n",
       "    <tr>\n",
       "      <th>393</th>\n",
       "      <td>The Goldfinch: A Novel (Pulitzer Prize for Fic...</td>\n",
       "      <td>Donna Tartt</td>\n",
       "      <td>3.9</td>\n",
       "      <td>33844</td>\n",
       "      <td>20</td>\n",
       "      <td>2014</td>\n",
       "      <td>Fiction</td>\n",
       "      <td>0</td>\n",
       "      <td>Medium</td>\n",
       "      <td>0</td>\n",
       "      <td>-3.167752</td>\n",
       "    </tr>\n",
       "  </tbody>\n",
       "</table>\n",
       "</div>"
      ],
      "text/plain": [
       "                                                  Name         Author  \\\n",
       "22                                           Allegiant  Veronica Roth   \n",
       "106  Fifty Shades of Grey: Book One of the Fifty Sh...      E L James   \n",
       "107  Fifty Shades of Grey: Book One of the Fifty Sh...      E L James   \n",
       "132                         Go Set a Watchman: A Novel     Harper Lee   \n",
       "353                                 The Casual Vacancy   J.K. Rowling   \n",
       "392  The Goldfinch: A Novel (Pulitzer Prize for Fic...    Donna Tartt   \n",
       "393  The Goldfinch: A Novel (Pulitzer Prize for Fic...    Donna Tartt   \n",
       "\n",
       "     User Rating  Reviews  Price  Year    Genre  Normal Rating Price Category  \\\n",
       "22           3.9     6310     13  2013  Fiction              0          Cheap   \n",
       "106          3.8    47265     14  2012  Fiction              0          Cheap   \n",
       "107          3.8    47265     14  2013  Fiction              0          Cheap   \n",
       "132          3.6    14982     19  2015  Fiction              0          Cheap   \n",
       "353          3.3     9372     12  2012  Fiction              0          Cheap   \n",
       "392          3.9    33844     20  2013  Fiction              0         Medium   \n",
       "393          3.9    33844     20  2014  Fiction              0         Medium   \n",
       "\n",
       "     Profitable Offer   z-score  \n",
       "22                  0 -3.167752  \n",
       "106                 0 -3.608720  \n",
       "107                 0 -3.608720  \n",
       "132                 0 -4.490656  \n",
       "353                 0 -5.813559  \n",
       "392                 0 -3.167752  \n",
       "393                 0 -3.167752  "
      ]
     },
     "execution_count": 50,
     "metadata": {},
     "output_type": "execute_result"
    }
   ],
   "source": [
    "books[books['z-score'] < -3]"
   ]
  },
  {
   "cell_type": "code",
   "execution_count": 61,
   "id": "c14ac3b5",
   "metadata": {},
   "outputs": [
    {
     "data": {
      "text/plain": [
       "(0, 11)"
      ]
     },
     "execution_count": 61,
     "metadata": {},
     "output_type": "execute_result"
    }
   ],
   "source": [
    "books[books['z-score'] > 3].shape"
   ]
  },
  {
   "cell_type": "markdown",
   "id": "dd4706a5",
   "metadata": {},
   "source": [
    "###  У 5 книг в нашем списке z-оценка ниже -3 (их можно считать сильными выбросами). Оценка выше 3 отсутствует"
   ]
  },
  {
   "cell_type": "code",
   "execution_count": 51,
   "id": "910f6eea",
   "metadata": {},
   "outputs": [
    {
     "data": {
      "text/plain": [
       "count    550.000000\n",
       "mean       4.618364\n",
       "std        0.226980\n",
       "min        3.300000\n",
       "25%        4.500000\n",
       "50%        4.700000\n",
       "75%        4.800000\n",
       "max        4.900000\n",
       "Name: User Rating, dtype: float64"
      ]
     },
     "execution_count": 51,
     "metadata": {},
     "output_type": "execute_result"
    }
   ],
   "source": [
    "books['User Rating'].describe()"
   ]
  },
  {
   "cell_type": "markdown",
   "id": "d81685f5",
   "metadata": {},
   "source": [
    "### Найдем выбросы через квартили"
   ]
  },
  {
   "cell_type": "code",
   "execution_count": 53,
   "id": "ceb4c688",
   "metadata": {},
   "outputs": [
    {
     "name": "stdout",
     "output_type": "stream",
     "text": [
      "4.8 4.5\n",
      "0.2999999999999998\n"
     ]
    }
   ],
   "source": [
    "q3 = np.percentile(books['User Rating'],75)\n",
    "q1 = np.percentile(books['User Rating'],25)\n",
    "print (q3, q1)\n",
    "iqr = q3 - q1\n",
    "print(iqr)"
   ]
  },
  {
   "cell_type": "code",
   "execution_count": 54,
   "id": "d876b5c8",
   "metadata": {},
   "outputs": [
    {
     "name": "stdout",
     "output_type": "stream",
     "text": [
      "4.050000000000001 5.25\n"
     ]
    }
   ],
   "source": [
    "iqr_bottom = q1 - 1.5*iqr\n",
    "iqr_top = q3 + 1.5*iqr\n",
    "print(iqr_bottom,iqr_top)"
   ]
  },
  {
   "cell_type": "code",
   "execution_count": 64,
   "id": "52fe1bcb",
   "metadata": {},
   "outputs": [
    {
     "data": {
      "text/plain": [
       "(0, 11)"
      ]
     },
     "execution_count": 64,
     "metadata": {},
     "output_type": "execute_result"
    }
   ],
   "source": [
    "books[books['User Rating'] > iqr_top].shape"
   ]
  },
  {
   "cell_type": "code",
   "execution_count": 65,
   "id": "3021daee",
   "metadata": {},
   "outputs": [
    {
     "data": {
      "text/plain": [
       "(21, 11)"
      ]
     },
     "execution_count": 65,
     "metadata": {},
     "output_type": "execute_result"
    }
   ],
   "source": [
    "books[books['User Rating'] < iqr_bottom].shape"
   ]
  },
  {
   "cell_type": "code",
   "execution_count": 69,
   "id": "7078021f",
   "metadata": {},
   "outputs": [
    {
     "data": {
      "text/plain": [
       "2013    5\n",
       "2012    4\n",
       "2014    3\n",
       "2015    2\n",
       "2016    2\n",
       "2009    2\n",
       "2010    1\n",
       "2011    1\n",
       "2017    1\n",
       "Name: Year, dtype: int64"
      ]
     },
     "execution_count": 69,
     "metadata": {},
     "output_type": "execute_result"
    }
   ],
   "source": [
    "books[books['User Rating'] < iqr_bottom]['Year'].value_counts()"
   ]
  },
  {
   "cell_type": "markdown",
   "id": "b3dc9b97",
   "metadata": {},
   "source": [
    "### Наибольшее кол-во выбросов было в 2013 г."
   ]
  },
  {
   "cell_type": "markdown",
   "id": "1c929719",
   "metadata": {},
   "source": [
    "### Посчитаем меры центральной тенденции для датасета без выбросов"
   ]
  },
  {
   "cell_type": "code",
   "execution_count": 70,
   "id": "e6c581d3",
   "metadata": {},
   "outputs": [],
   "source": [
    "iqr_no_outliers = books[books['User Rating'] >= iqr_bottom]"
   ]
  },
  {
   "cell_type": "code",
   "execution_count": 72,
   "id": "2cb831c5",
   "metadata": {},
   "outputs": [
    {
     "name": "stdout",
     "output_type": "stream",
     "text": [
      "4.618363636363641\n",
      "4.646313799621929\n"
     ]
    }
   ],
   "source": [
    "print(books['User Rating'].mean())\n",
    "print(iqr_no_outliers['User Rating'].mean())"
   ]
  },
  {
   "cell_type": "code",
   "execution_count": 73,
   "id": "85b41119",
   "metadata": {},
   "outputs": [
    {
     "name": "stdout",
     "output_type": "stream",
     "text": [
      "4.7\n",
      "4.7\n"
     ]
    }
   ],
   "source": [
    "print(books['User Rating'].median())\n",
    "print(iqr_no_outliers['User Rating'].median())"
   ]
  },
  {
   "cell_type": "markdown",
   "id": "9748da82",
   "metadata": {},
   "source": [
    "### Можем увидеть, что в нашем случае выбросы значительно не влияют на меры центральной тенденции."
   ]
  },
  {
   "cell_type": "markdown",
   "id": "2c4170e3",
   "metadata": {},
   "source": [
    "### Надем корреляцию для рейтинга и цены"
   ]
  },
  {
   "cell_type": "code",
   "execution_count": 74,
   "id": "0127d4ad",
   "metadata": {},
   "outputs": [
    {
     "data": {
      "text/plain": [
       "-0.13308628728087976"
      ]
     },
     "execution_count": 74,
     "metadata": {},
     "output_type": "execute_result"
    }
   ],
   "source": [
    "books['User Rating'].corr(books['Price'])"
   ]
  },
  {
   "cell_type": "markdown",
   "id": "5a25dc7f",
   "metadata": {},
   "source": [
    "### Видим, что они связаны очень слабоой обратной завивимостью"
   ]
  },
  {
   "cell_type": "markdown",
   "id": "09944a62",
   "metadata": {},
   "source": [
    "### Протестируем гипотезу о независимости нормального рейтинга и жанра книги."
   ]
  },
  {
   "cell_type": "code",
   "execution_count": 81,
   "id": "4a578dc6",
   "metadata": {},
   "outputs": [
    {
     "data": {
      "text/html": [
       "<div>\n",
       "<style scoped>\n",
       "    .dataframe tbody tr th:only-of-type {\n",
       "        vertical-align: middle;\n",
       "    }\n",
       "\n",
       "    .dataframe tbody tr th {\n",
       "        vertical-align: top;\n",
       "    }\n",
       "\n",
       "    .dataframe thead th {\n",
       "        text-align: right;\n",
       "    }\n",
       "</style>\n",
       "<table border=\"1\" class=\"dataframe\">\n",
       "  <thead>\n",
       "    <tr style=\"text-align: right;\">\n",
       "      <th>Normal Rating</th>\n",
       "      <th>0</th>\n",
       "      <th>1</th>\n",
       "    </tr>\n",
       "    <tr>\n",
       "      <th>Genre</th>\n",
       "      <th></th>\n",
       "      <th></th>\n",
       "    </tr>\n",
       "  </thead>\n",
       "  <tbody>\n",
       "    <tr>\n",
       "      <th>Fiction</th>\n",
       "      <td>40</td>\n",
       "      <td>200</td>\n",
       "    </tr>\n",
       "    <tr>\n",
       "      <th>Non Fiction</th>\n",
       "      <td>58</td>\n",
       "      <td>252</td>\n",
       "    </tr>\n",
       "  </tbody>\n",
       "</table>\n",
       "</div>"
      ],
      "text/plain": [
       "Normal Rating   0    1\n",
       "Genre                 \n",
       "Fiction        40  200\n",
       "Non Fiction    58  252"
      ]
     },
     "execution_count": 81,
     "metadata": {},
     "output_type": "execute_result"
    }
   ],
   "source": [
    "books_ct = books.groupby('Genre')['Normal Rating'].value_counts().unstack()\n",
    "books_ct"
   ]
  },
  {
   "cell_type": "code",
   "execution_count": 84,
   "id": "807a1b50",
   "metadata": {},
   "outputs": [
    {
     "data": {
      "text/plain": [
       "1"
      ]
     },
     "execution_count": 84,
     "metadata": {},
     "output_type": "execute_result"
    }
   ],
   "source": [
    "dof = (books_ct.shape[0] - 1) * (books_ct.shape[1] - 1)\n",
    "dof"
   ]
  },
  {
   "cell_type": "code",
   "execution_count": 89,
   "id": "cc781d0d",
   "metadata": {},
   "outputs": [],
   "source": [
    "alpha = 0.01\n",
    "critical_value = 6.63"
   ]
  },
  {
   "cell_type": "code",
   "execution_count": 83,
   "id": "c3091668",
   "metadata": {},
   "outputs": [
    {
     "data": {
      "text/plain": [
       "(0.3855781536137148,\n",
       " 0.5346329184383541,\n",
       " 1,\n",
       " array([[ 42.76363636, 197.23636364],\n",
       "        [ 55.23636364, 254.76363636]]))"
      ]
     },
     "execution_count": 83,
     "metadata": {},
     "output_type": "execute_result"
    }
   ],
   "source": [
    "scipy.stats.chi2_contingency(books_ct, correction=False)"
   ]
  },
  {
   "cell_type": "code",
   "execution_count": 88,
   "id": "dcb750f4",
   "metadata": {},
   "outputs": [],
   "source": [
    "chi_square = 0.3855781536137148"
   ]
  },
  {
   "cell_type": "code",
   "execution_count": 91,
   "id": "1234d023",
   "metadata": {},
   "outputs": [
    {
     "data": {
      "text/plain": [
       "False"
      ]
     },
     "execution_count": 91,
     "metadata": {},
     "output_type": "execute_result"
    }
   ],
   "source": [
    "chi_square > critical_value"
   ]
  },
  {
   "cell_type": "markdown",
   "id": "53aeb60b",
   "metadata": {},
   "source": [
    "### Значение хи-квадрат не попадает в область критических значений, соответственно мы не можем отвергнуть гипотезу о независимости данных переменных и данная зависимость существует."
   ]
  },
  {
   "cell_type": "markdown",
   "id": "2f674919",
   "metadata": {},
   "source": [
    "### Сагрегируем переменные по годам"
   ]
  },
  {
   "cell_type": "code",
   "execution_count": 100,
   "id": "aedf35b8",
   "metadata": {},
   "outputs": [
    {
     "data": {
      "text/html": [
       "<div>\n",
       "<style scoped>\n",
       "    .dataframe tbody tr th:only-of-type {\n",
       "        vertical-align: middle;\n",
       "    }\n",
       "\n",
       "    .dataframe tbody tr th {\n",
       "        vertical-align: top;\n",
       "    }\n",
       "\n",
       "    .dataframe thead th {\n",
       "        text-align: right;\n",
       "    }\n",
       "</style>\n",
       "<table border=\"1\" class=\"dataframe\">\n",
       "  <thead>\n",
       "    <tr style=\"text-align: right;\">\n",
       "      <th></th>\n",
       "      <th>Reviews</th>\n",
       "      <th>Price</th>\n",
       "      <th>User Rating</th>\n",
       "      <th>Normal Rating</th>\n",
       "    </tr>\n",
       "    <tr>\n",
       "      <th>Year</th>\n",
       "      <th></th>\n",
       "      <th></th>\n",
       "      <th></th>\n",
       "      <th></th>\n",
       "    </tr>\n",
       "  </thead>\n",
       "  <tbody>\n",
       "    <tr>\n",
       "      <th>2009</th>\n",
       "      <td>235506</td>\n",
       "      <td>15.40</td>\n",
       "      <td>4.584</td>\n",
       "      <td>40</td>\n",
       "    </tr>\n",
       "    <tr>\n",
       "      <th>2010</th>\n",
       "      <td>273981</td>\n",
       "      <td>13.48</td>\n",
       "      <td>4.558</td>\n",
       "      <td>37</td>\n",
       "    </tr>\n",
       "    <tr>\n",
       "      <th>2011</th>\n",
       "      <td>405041</td>\n",
       "      <td>15.10</td>\n",
       "      <td>4.558</td>\n",
       "      <td>35</td>\n",
       "    </tr>\n",
       "    <tr>\n",
       "      <th>2012</th>\n",
       "      <td>654546</td>\n",
       "      <td>15.30</td>\n",
       "      <td>4.532</td>\n",
       "      <td>37</td>\n",
       "    </tr>\n",
       "    <tr>\n",
       "      <th>2013</th>\n",
       "      <td>654907</td>\n",
       "      <td>14.60</td>\n",
       "      <td>4.554</td>\n",
       "      <td>37</td>\n",
       "    </tr>\n",
       "    <tr>\n",
       "      <th>2014</th>\n",
       "      <td>792997</td>\n",
       "      <td>14.64</td>\n",
       "      <td>4.622</td>\n",
       "      <td>44</td>\n",
       "    </tr>\n",
       "    <tr>\n",
       "      <th>2015</th>\n",
       "      <td>711669</td>\n",
       "      <td>10.42</td>\n",
       "      <td>4.648</td>\n",
       "      <td>45</td>\n",
       "    </tr>\n",
       "    <tr>\n",
       "      <th>2016</th>\n",
       "      <td>709800</td>\n",
       "      <td>13.18</td>\n",
       "      <td>4.678</td>\n",
       "      <td>45</td>\n",
       "    </tr>\n",
       "    <tr>\n",
       "      <th>2017</th>\n",
       "      <td>644420</td>\n",
       "      <td>11.38</td>\n",
       "      <td>4.660</td>\n",
       "      <td>44</td>\n",
       "    </tr>\n",
       "    <tr>\n",
       "      <th>2018</th>\n",
       "      <td>696521</td>\n",
       "      <td>10.52</td>\n",
       "      <td>4.668</td>\n",
       "      <td>41</td>\n",
       "    </tr>\n",
       "    <tr>\n",
       "      <th>2019</th>\n",
       "      <td>794917</td>\n",
       "      <td>10.08</td>\n",
       "      <td>4.740</td>\n",
       "      <td>47</td>\n",
       "    </tr>\n",
       "  </tbody>\n",
       "</table>\n",
       "</div>"
      ],
      "text/plain": [
       "      Reviews  Price  User Rating  Normal Rating\n",
       "Year                                            \n",
       "2009   235506  15.40        4.584             40\n",
       "2010   273981  13.48        4.558             37\n",
       "2011   405041  15.10        4.558             35\n",
       "2012   654546  15.30        4.532             37\n",
       "2013   654907  14.60        4.554             37\n",
       "2014   792997  14.64        4.622             44\n",
       "2015   711669  10.42        4.648             45\n",
       "2016   709800  13.18        4.678             45\n",
       "2017   644420  11.38        4.660             44\n",
       "2018   696521  10.52        4.668             41\n",
       "2019   794917  10.08        4.740             47"
      ]
     },
     "execution_count": 100,
     "metadata": {},
     "output_type": "execute_result"
    }
   ],
   "source": [
    "reviews_sum = books.groupby('Year')['Reviews'].sum()\n",
    "price_mean = books.groupby('Year')['Price'].mean()\n",
    "rating_mean = books.groupby('Year')['User Rating'].mean()\n",
    "normalrating_sum = books.groupby('Year')['Normal Rating'].sum()\n",
    "\n",
    "books_year = pd.concat([reviews_sum, price_mean, rating_mean, normalrating_sum], axis=1)\n",
    "books_year"
   ]
  },
  {
   "cell_type": "code",
   "execution_count": 113,
   "id": "1d6fa237",
   "metadata": {},
   "outputs": [
    {
     "name": "stdout",
     "output_type": "stream",
     "text": [
      "LinregressResult(slope=-26.32281411402873, intercept=134.66832751098977, rvalue=-0.8201506900682602, pvalue=0.0019895429154058145, stderr=6.12104352648774, intercept_stderr=28.271825972317362)\n"
     ]
    }
   ],
   "source": [
    "X = books_year['User Rating']\n",
    "y = books_year['Price']\n",
    "\n",
    "res = scipy.stats.linregress(X, y)\n",
    "print(res)"
   ]
  },
  {
   "cell_type": "markdown",
   "id": "7a05b70a",
   "metadata": {},
   "source": [
    "### Коэффициент детерминации: наша модель на 67% объясняет дисперсию в целевой переменной"
   ]
  },
  {
   "cell_type": "code",
   "execution_count": 114,
   "id": "2228a8eb",
   "metadata": {},
   "outputs": [
    {
     "name": "stdout",
     "output_type": "stream",
     "text": [
      "0.6726471544194434\n"
     ]
    }
   ],
   "source": [
    "r_sq = res.rvalue ** 2\n",
    "print(r_sq)"
   ]
  },
  {
   "cell_type": "code",
   "execution_count": 115,
   "id": "c318d7d9",
   "metadata": {},
   "outputs": [
    {
     "data": {
      "image/png": "[encoded data removed]",
      "text/plain": [
       "<Figure size 432x288 with 1 Axes>"
      ]
     },
     "metadata": {
      "needs_background": "light"
     },
     "output_type": "display_data"
    }
   ],
   "source": [
    "plt.scatter(X, y, label='оригинальные данные')\n",
    "plt.plot(X, res.intercept + res.slope*X, 'r', label='линия регрессии')\n",
    "plt.legend()\n",
    "plt.show()"
   ]
  },
  {
   "cell_type": "code",
   "execution_count": 134,
   "id": "1132b037",
   "metadata": {},
   "outputs": [
    {
     "name": "stdout",
     "output_type": "stream",
     "text": [
      "Warning: Maximum number of iterations has been exceeded.\n",
      "         Current function value: 0.473740\n",
      "         Iterations: 35\n",
      "                           Logit Regression Results                           \n",
      "==============================================================================\n",
      "Dep. Variable:       Profitable Offer   No. Observations:                  550\n",
      "Model:                          Logit   Df Residuals:                      548\n",
      "Method:                           MLE   Df Model:                            1\n",
      "Date:                Wed, 14 Dec 2022   Pseudo R-squ.:                 0.09292\n",
      "Time:                        23:43:43   Log-Likelihood:                -260.56\n",
      "converged:                      False   LL-Null:                       -287.25\n",
      "Covariance Type:            nonrobust   LLR p-value:                 2.750e-13\n",
      "=================================================================================\n",
      "                    coef    std err          z      P>|z|      [0.025      0.975]\n",
      "---------------------------------------------------------------------------------\n",
      "const           -25.8644   4.18e+04     -0.001      1.000   -8.19e+04    8.18e+04\n",
      "Normal Rating    24.8353   4.18e+04      0.001      1.000   -8.18e+04    8.19e+04\n",
      "=================================================================================\n",
      "\n",
      "Possibly complete quasi-separation: A fraction 0.18 of observations can be\n",
      "perfectly predicted. This might indicate that there is complete\n",
      "quasi-separation. In this case some parameters will not be identified.\n"
     ]
    },
    {
     "name": "stderr",
     "output_type": "stream",
     "text": [
      "/Users/Evelina/opt/anaconda3/lib/python3.9/site-packages/statsmodels/base/model.py:604: ConvergenceWarning: Maximum Likelihood optimization failed to converge. Check mle_retvals\n",
      "  warnings.warn(\"Maximum Likelihood optimization failed to \"\n"
     ]
    }
   ],
   "source": [
    "a = sm.add_constant(books['Normal Rating'])\n",
    "b = books['Profitable Offer']\n",
    "logit = sm.Logit(b, a_constant).fit()\n",
    "print(logit.summary())"
   ]
  },
  {
   "cell_type": "code",
   "execution_count": 129,
   "id": "35ca9b6f",
   "metadata": {},
   "outputs": [
    {
     "data": {
      "text/plain": [
       "5.85104990410827e-12"
      ]
     },
     "execution_count": 129,
     "metadata": {},
     "output_type": "execute_result"
    }
   ],
   "source": [
    "np.exp(-25.8644)"
   ]
  },
  {
   "cell_type": "markdown",
   "id": "d1879ae1",
   "metadata": {},
   "source": [
    "### Если это невыгодное предложение, то шанс попадание книги в категорию с нормальным рейтингом 5/1"
   ]
  },
  {
   "cell_type": "markdown",
   "id": "3a8a58d9",
   "metadata": {},
   "source": [
    "### Если это выгодное предложение, то шанс повышается"
   ]
  },
  {
   "cell_type": "code",
   "execution_count": 130,
   "id": "7ebb5e5c",
   "metadata": {},
   "outputs": [
    {
     "data": {
      "text/plain": [
       "61070819309.534424"
      ]
     },
     "execution_count": 130,
     "metadata": {},
     "output_type": "execute_result"
    }
   ],
   "source": [
    "np.exp(24.8353)"
   ]
  }
 ],
 "metadata": {
  "kernelspec": {
   "display_name": "Python 3 (ipykernel)",
   "language": "python",
   "name": "python3"
  },
  "language_info": {
   "codemirror_mode": {
    "name": "ipython",
    "version": 3
   },
   "file_extension": ".py",
   "mimetype": "text/x-python",
   "name": "python",
   "nbconvert_exporter": "python",
   "pygments_lexer": "ipython3",
   "version": "3.9.12"
  }
 },
 "nbformat": 4,
 "nbformat_minor": 5
}
